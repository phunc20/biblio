{
 "cells": [
  {
   "cell_type": "code",
   "execution_count": 1,
   "id": "379e1cce",
   "metadata": {},
   "outputs": [],
   "source": [
    "%matplotlib inline\n",
    "import matplotlib as mpl\n",
    "import matplotlib.pyplot as plt"
   ]
  },
  {
   "cell_type": "code",
   "execution_count": 2,
   "id": "d5b91c06",
   "metadata": {},
   "outputs": [],
   "source": [
    "mpl.rc('axes', labelsize=14)\n",
    "mpl.rc('xtick', labelsize=12)\n",
    "mpl.rc('ytick', labelsize=12)\n",
    "\n",
    "DARK_READER = True\n",
    "if DARK_READER:\n",
    "    plt.rcParams.update({\n",
    "        \"lines.color\": \"white\",\n",
    "        \"patch.edgecolor\": \"white\",\n",
    "        \"text.color\": \"black\",\n",
    "        \"axes.facecolor\": \"black\",\n",
    "        \"axes.edgecolor\": \"lightgray\",\n",
    "        \"axes.labelcolor\": \"white\",\n",
    "        \"axes.titlecolor\": \"white\",\n",
    "        \"xtick.color\": \"white\",\n",
    "        \"ytick.color\": \"white\",\n",
    "        \"grid.color\": \"lightgray\",\n",
    "        \"figure.facecolor\": \"black\",\n",
    "        \"figure.edgecolor\": \"black\",\n",
    "        \"savefig.facecolor\": \"black\",\n",
    "        \"savefig.edgecolor\": \"black\",\n",
    "    })"
   ]
  },
  {
   "cell_type": "code",
   "execution_count": 3,
   "id": "99b90989",
   "metadata": {},
   "outputs": [],
   "source": [
    "import numpy as np"
   ]
  },
  {
   "cell_type": "code",
   "execution_count": 4,
   "id": "17310e07",
   "metadata": {},
   "outputs": [
    {
     "name": "stdout",
     "output_type": "stream",
     "text": [
      "A =\n",
      "[[ 0.49671415 -0.1382643   0.64768854  1.52302986]\n",
      " [-0.23415337 -0.23413696  1.57921282  0.76743473]\n",
      " [-0.46947439  0.54256004 -0.46341769 -0.46572975]]\n",
      "\n",
      "B =\n",
      "[[ 0.24196227 -1.91328024 -1.72491783 -0.56228753]\n",
      " [-1.01283112  0.31424733 -0.90802408 -1.4123037 ]\n",
      " [ 1.46564877 -0.2257763   0.0675282  -1.42474819]]\n",
      "\n",
      "np.maximum(A, B) =\n",
      "[[ 0.49671415 -0.1382643   0.64768854  1.52302986]\n",
      " [-0.23415337  0.31424733  1.57921282  0.76743473]\n",
      " [ 1.46564877  0.54256004  0.0675282  -0.46572975]]\n"
     ]
    }
   ],
   "source": [
    "np.random.seed(42)\n",
    "A = np.random.randn(3,4)\n",
    "B = np.random.randn(3,4)\n",
    "print(f\"A =\\n{A}\")\n",
    "print(f\"\\nB =\\n{B}\")\n",
    "print(f\"\\nnp.maximum(A, B) =\\n{np.maximum(A, B)}\")"
   ]
  },
  {
   "cell_type": "markdown",
   "id": "282f2a2d",
   "metadata": {},
   "source": [
    "**Rmk.**\n",
    "\n",
    "- `np.maximum` is a different function from `np.max`"
   ]
  },
  {
   "cell_type": "code",
   "execution_count": 5,
   "id": "50ef41a9",
   "metadata": {},
   "outputs": [],
   "source": [
    "def norm_(x, y, p):\n",
    "    if p <= 0:\n",
    "        raise ValueError(\"p norm: p must > 0\")\n",
    "    if p == float(\"inf\"):\n",
    "        return np.maximum(np.abs(x), np.abs(y))\n",
    "    else:\n",
    "        return (np.abs(x)**p + np.abs(y)**p)**(1/p)\n",
    "        #return np.power(np.sum(np.power(np.abs(vec), p)), 1/p)"
   ]
  },
  {
   "cell_type": "code",
   "execution_count": 6,
   "id": "01d8c4d6",
   "metadata": {},
   "outputs": [
    {
     "name": "stderr",
     "output_type": "stream",
     "text": [
      "/home/phunc20/.virtualenvs/homl2e/lib/python3.7/site-packages/ipykernel_launcher.py:7: RuntimeWarning: invalid value encountered in power\n",
      "  import sys\n"
     ]
    },
    {
     "data": {
      "text/plain": [
       "[7.0, 5.0, 4.000633288976907, 2.374832927283653, nan, 4]"
      ]
     },
     "execution_count": 6,
     "metadata": {},
     "output_type": "execute_result"
    }
   ],
   "source": [
    "[norm_(3, 4, p) for p in [1, 2, 20, 50, 55, float(\"inf\")]]"
   ]
  },
  {
   "cell_type": "code",
   "execution_count": 7,
   "id": "db07802c",
   "metadata": {
    "scrolled": true
   },
   "outputs": [
    {
     "data": {
      "image/png": "[encoded data removed]",
      "text/plain": [
       "<Figure size 432x288 with 1 Axes>"
      ]
     },
     "metadata": {},
     "output_type": "display_data"
    }
   ],
   "source": [
    "p = 2\n",
    "xs = np.linspace(start=-1.5, stop=1.5, num=500)\n",
    "ys = xs\n",
    "X, Y = np.meshgrid(xs, ys)\n",
    "Z = norm_(X, Y, p)\n",
    "plt.contourf(X, Y, Z,\n",
    "             levels=[0, 1],\n",
    "             #cmap=plt.cm.bone,\n",
    "             #colors=[\"r\", \"g\", \"b\"],\n",
    "             colors=(\"g\",),\n",
    ")\n",
    "plt.contour(X, Y, Z,\n",
    "            levels=[0, 1],\n",
    "            colors=(\"w\",),\n",
    "            linewidths=(3,),\n",
    ")\n",
    "plt.axis(\"equal\")\n",
    "#plt.xticks(np.range(-1.5,1.5,0.5))\n",
    "#plt.grid(True)\n",
    "plt.title(f\"p = {p}\");"
   ]
  },
  {
   "cell_type": "code",
   "execution_count": 8,
   "id": "3d850033",
   "metadata": {},
   "outputs": [],
   "source": [
    "def draw_ball(p=2):\n",
    "    xs = np.linspace(start=-1.5, stop=1.5, num=500)\n",
    "    ys = xs\n",
    "    X, Y = np.meshgrid(xs, ys)\n",
    "    Z = norm_(X, Y, p)\n",
    "    plt.contourf(X, Y, Z,\n",
    "                 levels=[0, 1],\n",
    "                 #cmap=plt.cm.bone,\n",
    "                 #colors=[\"r\", \"g\", \"b\"],\n",
    "                 colors=(\"g\",),\n",
    "    )\n",
    "    plt.contour(X, Y, Z,\n",
    "                levels=[0, 1],\n",
    "                colors=(\"w\",),\n",
    "                linewidths=(3,),\n",
    "    )\n",
    "    plt.axis(\"equal\")\n",
    "    #plt.xticks(np.range(-1.5,1.5,0.5))\n",
    "    #plt.grid(True)\n",
    "    plt.title(f\"p = {p}\");"
   ]
  },
  {
   "cell_type": "code",
   "execution_count": 9,
   "id": "e0965de8",
   "metadata": {},
   "outputs": [],
   "source": [
    "import ipywidgets as widgets\n",
    "from ipywidgets import interact, interactive"
   ]
  },
  {
   "cell_type": "code",
   "execution_count": 10,
   "id": "3797d892",
   "metadata": {},
   "outputs": [
    {
     "data": {
      "application/vnd.jupyter.widget-view+json": {
       "model_id": "4f99c0cf4fb64a7a8577cc1b40da5324",
       "version_major": 2,
       "version_minor": 0
      },
      "text/plain": [
       "interactive(children=(FloatSlider(value=2.0, description='p', max=1000000.0, min=0.1), Output()), _dom_classes…"
      ]
     },
     "metadata": {},
     "output_type": "display_data"
    }
   ],
   "source": [
    "ball_widget = interactive(\n",
    "    draw_ball,\n",
    "    #r = (0, 2, 0.1),\n",
    "    p = (0.1, 1e6, 0.1),\n",
    ")\n",
    "display(ball_widget)"
   ]
  },
  {
   "cell_type": "markdown",
   "id": "d012ba2c",
   "metadata": {},
   "source": [
    "**Rmk.**\n",
    "\n",
    "- When `p < 1`, the **\"ball\"** becomes _**no longer convex**_."
   ]
  },
  {
   "cell_type": "code",
   "execution_count": null,
   "id": "68bd1deb",
   "metadata": {},
   "outputs": [],
   "source": []
  }
 ],
 "metadata": {
  "kernelspec": {
   "display_name": "Python 3",
   "language": "python",
   "name": "python3"
  },
  "language_info": {
   "codemirror_mode": {
    "name": "ipython",
    "version": 3
   },
   "file_extension": ".py",
   "mimetype": "text/x-python",
   "name": "python",
   "nbconvert_exporter": "python",
   "pygments_lexer": "ipython3",
   "version": "3.7.8"
  }
 },
 "nbformat": 4,
 "nbformat_minor": 5
}
