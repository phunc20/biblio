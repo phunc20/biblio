{
 "cells": [
  {
   "cell_type": "markdown",
   "id": "2b16ad6f-2cfc-496f-9f95-3d4a29e61b98",
   "metadata": {},
   "source": [
    "## Introduce Scikit-Learn's Digit Dataset"
   ]
  },
  {
   "cell_type": "code",
   "execution_count": 1,
   "id": "30c2f5e9-2d5e-4e4d-b2b0-2c9f36050b8f",
   "metadata": {},
   "outputs": [],
   "source": [
    "from sklearn.datasets import load_digits"
   ]
  },
  {
   "cell_type": "code",
   "execution_count": 2,
   "id": "d3a591f3-4ecf-48a1-9ba2-b525a94d3873",
   "metadata": {},
   "outputs": [
    {
     "data": {
      "text/plain": [
       "((1797, 64), (1797,))"
      ]
     },
     "execution_count": 2,
     "metadata": {},
     "output_type": "execute_result"
    }
   ],
   "source": [
    "X, y = load_digits(return_X_y=True)\n",
    "X.shape, y.shape"
   ]
  },
  {
   "cell_type": "code",
   "execution_count": 3,
   "id": "13b2194d-9e78-4d5b-8994-28a59718792a",
   "metadata": {},
   "outputs": [],
   "source": [
    "import matplotlib.pyplot as plt\n",
    "plt.style.use(\"dark_background\")"
   ]
  },
  {
   "cell_type": "code",
   "execution_count": 4,
   "id": "be698dcc-fd79-4950-a61d-05c14759ce65",
   "metadata": {},
   "outputs": [
    {
     "data": {
      "image/png": "[encoded data removed]",
      "text/plain": [
       "<Figure size 640x480 with 10 Axes>"
      ]
     },
     "metadata": {},
     "output_type": "display_data"
    }
   ],
   "source": [
    "fig, ax = plt.subplots(2, 5, sharex=True, sharey=True)\n",
    "for i in range(2):\n",
    "    for j in range(5):\n",
    "        index = 5*i+j\n",
    "        ax[i,j].imshow(X[index].reshape((8,8)), cmap=\"gray\")\n",
    "        ax[i,j].set_title(f\"X[{index}]\\nlabel = {y[index]}\")\n",
    "        ax[i,j].set_xticks([])\n",
    "        ax[i,j].set_yticks([])"
   ]
  },
  {
   "cell_type": "markdown",
   "id": "51bc7d03-baef-48eb-b489-f32e39e6d67f",
   "metadata": {
    "tags": []
   },
   "source": [
    "We don't need `X`. Instead, by using `y` and `np.random`, we'd like to create\n",
    "a bunch of independent weak learners, which together form a strong learner."
   ]
  },
  {
   "cell_type": "code",
   "execution_count": 5,
   "id": "6e41a4ac-2162-4f0f-809d-9b014b14ba05",
   "metadata": {},
   "outputs": [],
   "source": [
    "import numpy as np"
   ]
  },
  {
   "cell_type": "code",
   "execution_count": 6,
   "id": "7d0cd2ee-48ae-4fd2-a772-44314fc15630",
   "metadata": {},
   "outputs": [],
   "source": [
    "rng = np.random.default_rng(42)"
   ]
  },
  {
   "cell_type": "code",
   "execution_count": 7,
   "id": "348d0dec-9492-400e-a88e-b2e21c282e82",
   "metadata": {},
   "outputs": [
    {
     "name": "stdout",
     "output_type": "stream",
     "text": [
      "y       = array([0, 1, 2, ..., 8, 9, 8])\n",
      "y_wrong = array([9, 0, 1, ..., 7, 8, 7])\n"
     ]
    }
   ],
   "source": [
    "y_wrong = (y-1) % 10\n",
    "print(f\"{y       = }\")\n",
    "print(f\"{y_wrong = }\")"
   ]
  },
  {
   "cell_type": "markdown",
   "id": "1a730aff-abcf-4d2c-86a2-b1c2869ae0ca",
   "metadata": {},
   "source": [
    "## Build Weak Learners"
   ]
  },
  {
   "cell_type": "markdown",
   "id": "327c4bed-0219-48ba-ac8a-23710d8dbb8e",
   "metadata": {},
   "source": [
    "Requirements\n",
    "- should accuracy only be slightly better than `1/2`\n",
    "    - or should accuracy only be slightly better than random guess, i.e. `1/10`?"
   ]
  },
  {
   "cell_type": "code",
   "execution_count": 8,
   "id": "0913671e-c466-4109-ad68-e4ab0dc9cdb0",
   "metadata": {},
   "outputs": [],
   "source": [
    "class Weak:\n",
    "    def __init__(self, p=0.51):\n",
    "        self.p = p\n",
    "\n",
    "    def predict(self, X):\n",
    "        # TODO\n",
    "        # 1. Use an rng instead\n",
    "        # 2. Include X as arg and make it deterministic\n",
    "        n_True = int(self.p * len(y))\n",
    "        n_False = len(y) - n_True\n",
    "        conditions = [True] * n_True + [False] * n_False\n",
    "        np.random.shuffle(conditions)\n",
    "        y_pred = np.where(conditions, y, y_wrong)\n",
    "        return y_pred"
   ]
  },
  {
   "cell_type": "raw",
   "id": "3a5cbac8-c8cd-48b6-ace8-3d1354c0f6e2",
   "metadata": {},
   "source": [
    "class Weak:\n",
    "    def __init__(self, p=0.51):\n",
    "        self.p = p\n",
    "\n",
    "    def predict(self, X):\n",
    "        # TODO: pass a rng\n",
    "        #incorrect = np.random.randint(low=0, high=10, size=len(y))\n",
    "        seed = hash(X.tobytes())\n",
    "        #rng = np.random.default_rng(seed)\n",
    "        incorrect = (y - seed) % 10\n",
    "        correct = y\n",
    "        n_True = int(self.p * len(y))\n",
    "        n_False = len(y) - n_True\n",
    "        conditions = [True] * n_True + [False] * n_False\n",
    "        rng.shuffle(conditions)\n",
    "        y_pred = np.where(conditions, correct, incorrect)\n",
    "        return y_pred"
   ]
  },
  {
   "cell_type": "code",
   "execution_count": 9,
   "id": "dc45b379-5eb3-4771-9984-ab6d4125d1df",
   "metadata": {},
   "outputs": [],
   "source": [
    "weak = Weak()"
   ]
  },
  {
   "cell_type": "code",
   "execution_count": 10,
   "id": "01e1b761-e382-426b-843a-0d5e25fae5e6",
   "metadata": {},
   "outputs": [],
   "source": [
    "y_pred = weak.predict(X)"
   ]
  },
  {
   "cell_type": "markdown",
   "id": "db355167-f029-429a-9570-bcefb6b36dd5",
   "metadata": {},
   "source": [
    "## Test Our `Weak` Class"
   ]
  },
  {
   "cell_type": "markdown",
   "id": "194dcadd-84fd-4aa0-bc78-e730d1c4b547",
   "metadata": {},
   "source": [
    "1. Do they all give different predictions?\n",
    "1. Are their accuracies all equal to `p`?"
   ]
  },
  {
   "cell_type": "code",
   "execution_count": 11,
   "id": "571bfa3a-9241-4e49-a7fc-5663981b9795",
   "metadata": {},
   "outputs": [
    {
     "data": {
      "text/plain": [
       "False"
      ]
     },
     "execution_count": 11,
     "metadata": {},
     "output_type": "execute_result"
    }
   ],
   "source": [
    "np.array_equal(Weak().predict(X), Weak().predict(X))"
   ]
  },
  {
   "cell_type": "code",
   "execution_count": 12,
   "id": "0428f0b2-61a1-4d47-8820-db68d4980cc4",
   "metadata": {},
   "outputs": [
    {
     "name": "stdout",
     "output_type": "stream",
     "text": [
      "[0 0 2 3 4 5 6 7 7 8]\n",
      "[9 1 1 3 3 5 5 6 8 8]\n",
      "[0 1 2 2 3 5 6 6 7 9]\n"
     ]
    }
   ],
   "source": [
    "print(f\"{Weak().predict(X)[:10]}\")\n",
    "print(f\"{Weak().predict(X)[:10]}\")\n",
    "print(f\"{Weak().predict(X)[:10]}\")"
   ]
  },
  {
   "cell_type": "code",
   "execution_count": 13,
   "id": "b9f7a8c6-6f55-496d-b08b-093ec560661d",
   "metadata": {},
   "outputs": [],
   "source": [
    "from sklearn.metrics import accuracy_score"
   ]
  },
  {
   "cell_type": "code",
   "execution_count": 14,
   "id": "7747a4e0-e192-47ec-9e74-5908ad802fc1",
   "metadata": {},
   "outputs": [
    {
     "data": {
      "text/plain": [
       "0.5097384529771842"
      ]
     },
     "execution_count": 14,
     "metadata": {},
     "output_type": "execute_result"
    }
   ],
   "source": [
    "accuracy_score(y, y_pred)"
   ]
  },
  {
   "cell_type": "code",
   "execution_count": 15,
   "id": "58d27e79-da3f-49b7-8e24-9719cf248fdd",
   "metadata": {},
   "outputs": [
    {
     "data": {
      "text/plain": [
       "[0.5097384529771842,\n",
       " 0.5097384529771842,\n",
       " 0.5097384529771842,\n",
       " 0.5097384529771842,\n",
       " 0.5097384529771842,\n",
       " 0.5097384529771842,\n",
       " 0.5097384529771842,\n",
       " 0.5097384529771842,\n",
       " 0.5097384529771842,\n",
       " 0.5097384529771842]"
      ]
     },
     "execution_count": 15,
     "metadata": {},
     "output_type": "execute_result"
    }
   ],
   "source": [
    "k = 10\n",
    "weaks = [Weak() for _ in range(k)]\n",
    "accuracies= [accuracy_score(y, weak.predict(X)) for weak in weaks]\n",
    "accuracies"
   ]
  },
  {
   "cell_type": "markdown",
   "id": "6372bcf4-07e8-4730-848d-95830abe4830",
   "metadata": {},
   "source": [
    "## Reminder on `Counter`"
   ]
  },
  {
   "cell_type": "code",
   "execution_count": 16,
   "id": "d0368ef4-0ea0-42d7-8854-c1ef5607bbb3",
   "metadata": {},
   "outputs": [],
   "source": [
    "from collections import Counter"
   ]
  },
  {
   "cell_type": "code",
   "execution_count": 19,
   "id": "80b72e06-5fba-4150-bc1b-1e478f7c9b08",
   "metadata": {},
   "outputs": [
    {
     "data": {
      "text/plain": [
       "array([9, 4, 0, 1, 9, 0, 1, 8, 9, 0, 8, 6, 4, 3, 0])"
      ]
     },
     "execution_count": 19,
     "metadata": {},
     "output_type": "execute_result"
    }
   ],
   "source": [
    "np.random.seed(10)\n",
    "digits = np.random.randint(low=0, high=10, size=15)\n",
    "digits"
   ]
  },
  {
   "cell_type": "code",
   "execution_count": 20,
   "id": "d0819199-0982-4f9a-b355-5c7ba26adf1d",
   "metadata": {},
   "outputs": [
    {
     "name": "stdout",
     "output_type": "stream",
     "text": [
      "c.most_common(3) = [(0, 4), (9, 3), (4, 2)]\n",
      "c.most_common(1) = [(0, 4)]\n"
     ]
    }
   ],
   "source": [
    "c = Counter(digits)\n",
    "print(f\"{c.most_common(3) = }\")\n",
    "print(f\"{c.most_common(1) = }\")"
   ]
  },
  {
   "cell_type": "markdown",
   "id": "e8b2fa74-f090-443d-bbad-8e67ee201abc",
   "metadata": {},
   "source": [
    "## Hard Voting"
   ]
  },
  {
   "cell_type": "code",
   "execution_count": 21,
   "id": "ced50fb3-c4f7-4202-9d58-41f749309e27",
   "metadata": {},
   "outputs": [],
   "source": [
    "from collections import Counter\n",
    "from tqdm.auto import tqdm"
   ]
  },
  {
   "cell_type": "code",
   "execution_count": 22,
   "id": "c4f6fe49-f2cf-49cc-87b2-985b24536930",
   "metadata": {},
   "outputs": [],
   "source": [
    "def hard_vote(many_y_pred):\n",
    "    final_pred = []\n",
    "    m = len(many_y_pred[0])\n",
    "    for i in tqdm(range(m)):\n",
    "        ith_preds = [y_pred[i] for y_pred in many_y_pred]\n",
    "        counter = Counter(ith_preds)\n",
    "        final_pred.append(counter.most_common(1)[0][0])\n",
    "    return final_pred"
   ]
  },
  {
   "cell_type": "code",
   "execution_count": 23,
   "id": "99885388-a29b-427f-8915-e45b9f60b281",
   "metadata": {},
   "outputs": [],
   "source": [
    "k = 10_000\n",
    "weaks = [Weak(0.51) for _ in range(k)]\n",
    "many_y_pred = [weak.predict(X) for weak in weaks]"
   ]
  },
  {
   "cell_type": "code",
   "execution_count": 24,
   "id": "fe74ce70-9521-43d8-ad82-6b2ddb3d8e38",
   "metadata": {},
   "outputs": [
    {
     "data": {
      "application/json": {
       "ascii": false,
       "bar_format": null,
       "colour": null,
       "elapsed": 0.06615114212036133,
       "initial": 0,
       "n": 0,
       "ncols": null,
       "nrows": 32,
       "postfix": null,
       "prefix": "",
       "rate": null,
       "total": 1797,
       "unit": "it",
       "unit_divisor": 1000,
       "unit_scale": false
      },
      "application/vnd.jupyter.widget-view+json": {
       "model_id": "7ca430f226284bd7980be10bf8fe72f6",
       "version_major": 2,
       "version_minor": 0
      },
      "text/plain": [
       "  0%|          | 0/1797 [00:00<?, ?it/s]"
      ]
     },
     "metadata": {},
     "output_type": "display_data"
    },
    {
     "data": {
      "text/plain": [
       "0.9788536449638287"
      ]
     },
     "execution_count": 24,
     "metadata": {},
     "output_type": "execute_result"
    }
   ],
   "source": [
    "y_vote = hard_vote(many_y_pred)\n",
    "accuracy_score(y, y_vote)"
   ]
  },
  {
   "cell_type": "code",
   "execution_count": 25,
   "id": "d4561cab-a345-4773-8a7b-29cf0c538506",
   "metadata": {},
   "outputs": [],
   "source": [
    "k = 10_000\n",
    "weaks = [Weak(0.2) for _ in range(k)]\n",
    "many_y_pred = [weak.predict(X) for weak in weaks]"
   ]
  },
  {
   "cell_type": "code",
   "execution_count": 26,
   "id": "21dc917f-01fe-486a-b933-a5371886e67a",
   "metadata": {},
   "outputs": [
    {
     "data": {
      "application/json": {
       "ascii": false,
       "bar_format": null,
       "colour": null,
       "elapsed": 0.09438014030456543,
       "initial": 0,
       "n": 0,
       "ncols": null,
       "nrows": 32,
       "postfix": null,
       "prefix": "",
       "rate": null,
       "total": 1797,
       "unit": "it",
       "unit_divisor": 1000,
       "unit_scale": false
      },
      "application/vnd.jupyter.widget-view+json": {
       "model_id": "b2edaf872dd34914bbe1cc585bc8b161",
       "version_major": 2,
       "version_minor": 0
      },
      "text/plain": [
       "  0%|          | 0/1797 [00:00<?, ?it/s]"
      ]
     },
     "metadata": {},
     "output_type": "display_data"
    },
    {
     "data": {
      "text/plain": [
       "0.0"
      ]
     },
     "execution_count": 26,
     "metadata": {},
     "output_type": "execute_result"
    }
   ],
   "source": [
    "y_vote = hard_vote(many_y_pred)\n",
    "accuracy_score(y, y_vote)"
   ]
  },
  {
   "cell_type": "code",
   "execution_count": null,
   "id": "fec9fdad-b190-4532-89ee-1171ec4cc5f0",
   "metadata": {},
   "outputs": [],
   "source": []
  }
 ],
 "metadata": {
  "kernelspec": {
   "display_name": "Python 3 (ipykernel)",
   "language": "python",
   "name": "python3"
  },
  "language_info": {
   "codemirror_mode": {
    "name": "ipython",
    "version": 3
   },
   "file_extension": ".py",
   "mimetype": "text/x-python",
   "name": "python",
   "nbconvert_exporter": "python",
   "pygments_lexer": "ipython3",
   "version": "3.10.0"
  }
 },
 "nbformat": 4,
 "nbformat_minor": 5
}
