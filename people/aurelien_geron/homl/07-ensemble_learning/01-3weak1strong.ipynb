{
 "cells": [
  {
   "cell_type": "code",
   "execution_count": 1,
   "id": "30c2f5e9-2d5e-4e4d-b2b0-2c9f36050b8f",
   "metadata": {},
   "outputs": [],
   "source": [
    "from sklearn.datasets import load_digits"
   ]
  },
  {
   "cell_type": "code",
   "execution_count": 4,
   "id": "d3a591f3-4ecf-48a1-9ba2-b525a94d3873",
   "metadata": {},
   "outputs": [
    {
     "data": {
      "text/plain": [
       "((1797, 64), (1797,))"
      ]
     },
     "execution_count": 4,
     "metadata": {},
     "output_type": "execute_result"
    }
   ],
   "source": [
    "X, y = load_digits(return_X_y=True)\n",
    "X.shape, y.shape"
   ]
  },
  {
   "cell_type": "code",
   "execution_count": 26,
   "id": "8368b444-b5ed-48af-acad-79e011a9f80c",
   "metadata": {},
   "outputs": [
    {
     "data": {
      "image/png": "[encoded data removed]",
      "text/plain": [
       "<Figure size 300x300 with 1 Axes>"
      ]
     },
     "metadata": {},
     "output_type": "display_data"
    }
   ],
   "source": [
    "import matplotlib.pyplot as plt\n",
    "plt.style.use(\"dark_background\")\n",
    "\n",
    "plt.figure(figsize=(3,3))\n",
    "plt.imshow(X[13].reshape((8,8)), cmap=\"gray\");"
   ]
  },
  {
   "cell_type": "markdown",
   "id": "43b3610a-f8fc-4b8a-84cb-f99705bf71ea",
   "metadata": {},
   "source": [
    "We don't need the `X`. Instead, by using `y` and `np.random`, we'd like to create\n",
    "a bunch of independent weak learners, which together form a strong learner.\n",
    "\n",
    "#### Ref.\n",
    "- <https://numpy.org/doc/stable/reference/generated/numpy.select.html>"
   ]
  },
  {
   "cell_type": "code",
   "execution_count": 27,
   "id": "a01ebda4-367e-41f2-a50e-005a0dfc8c2d",
   "metadata": {},
   "outputs": [
    {
     "data": {
      "text/plain": [
       "array([0, 1, 2, ..., 8, 9, 8])"
      ]
     },
     "execution_count": 27,
     "metadata": {},
     "output_type": "execute_result"
    }
   ],
   "source": [
    "y"
   ]
  },
  {
   "cell_type": "code",
   "execution_count": 32,
   "id": "6e41a4ac-2162-4f0f-809d-9b014b14ba05",
   "metadata": {},
   "outputs": [
    {
     "data": {
      "text/plain": [
       "\u001b[0;31mDocstring:\u001b[0m\n",
       "shuffle(x)\n",
       "\n",
       "Modify a sequence in-place by shuffling its contents.\n",
       "\n",
       "This function only shuffles the array along the first axis of a\n",
       "multi-dimensional array. The order of sub-arrays is changed but\n",
       "their contents remains the same.\n",
       "\n",
       ".. note::\n",
       "    New code should use the ``shuffle`` method of a ``default_rng()``\n",
       "    instance instead; please see the :ref:`random-quick-start`.\n",
       "\n",
       "Parameters\n",
       "----------\n",
       "x : ndarray or MutableSequence\n",
       "    The array, list or mutable sequence to be shuffled.\n",
       "\n",
       "Returns\n",
       "-------\n",
       "None\n",
       "\n",
       "See Also\n",
       "--------\n",
       "random.Generator.shuffle: which should be used for new code.\n",
       "\n",
       "Examples\n",
       "--------\n",
       ">>> arr = np.arange(10)\n",
       ">>> np.random.shuffle(arr)\n",
       ">>> arr\n",
       "[1 7 5 2 9 4 3 6 0 8] # random\n",
       "\n",
       "Multi-dimensional arrays are only shuffled along the first axis:\n",
       "\n",
       ">>> arr = np.arange(9).reshape((3, 3))\n",
       ">>> np.random.shuffle(arr)\n",
       ">>> arr\n",
       "array([[3, 4, 5], # random\n",
       "       [6, 7, 8],\n",
       "       [0, 1, 2]])\n",
       "\u001b[0;31mType:\u001b[0m      builtin_function_or_method\n"
      ]
     },
     "metadata": {},
     "output_type": "display_data"
    }
   ],
   "source": [
    "import numpy as np\n",
    "np.random.shuffle?"
   ]
  },
  {
   "cell_type": "code",
   "execution_count": 47,
   "id": "04913497-cb5c-4dc1-832a-30b461bbb9ef",
   "metadata": {},
   "outputs": [],
   "source": [
    "class Weak:\n",
    "    def __init__(self, p=0.52):\n",
    "        self.p = p\n",
    "\n",
    "    def predict(self):\n",
    "        #incorrect = np.random.randint(low=0, high=10, size=len(y))\n",
    "        incorrect = (y - 1) % 10\n",
    "        correct = y\n",
    "        n_True = int(self.p * len(y))\n",
    "        n_False = len(y) - n_True\n",
    "        conditions = [True] * n_True + [False] * n_False\n",
    "        np.random.shuffle(conditions)\n",
    "        y_pred = np.where(conditions, correct, incorrect)\n",
    "        return y_pred"
   ]
  },
  {
   "cell_type": "code",
   "execution_count": 48,
   "id": "dc45b379-5eb3-4771-9984-ab6d4125d1df",
   "metadata": {},
   "outputs": [],
   "source": [
    "weak = Weak()\n"
   ]
  },
  {
   "cell_type": "code",
   "execution_count": 49,
   "id": "01e1b761-e382-426b-843a-0d5e25fae5e6",
   "metadata": {},
   "outputs": [],
   "source": [
    "y_pred = weak.predict()"
   ]
  },
  {
   "cell_type": "markdown",
   "id": "c3250715-1d8a-4202-9bed-eaec5abd8d73",
   "metadata": {},
   "source": [
    "- <https://scikit-learn.org/stable/modules/model_evaluation.html>"
   ]
  },
  {
   "cell_type": "code",
   "execution_count": 50,
   "id": "b9f7a8c6-6f55-496d-b08b-093ec560661d",
   "metadata": {},
   "outputs": [],
   "source": [
    "from sklearn.metrics import accuracy_score"
   ]
  },
  {
   "cell_type": "code",
   "execution_count": 52,
   "id": "571bfa3a-9241-4e49-a7fc-5663981b9795",
   "metadata": {},
   "outputs": [
    {
     "data": {
      "text/plain": [
       "False"
      ]
     },
     "execution_count": 52,
     "metadata": {},
     "output_type": "execute_result"
    }
   ],
   "source": [
    "np.array_equal(Weak().predict(), Weak().predict())"
   ]
  },
  {
   "cell_type": "code",
   "execution_count": 51,
   "id": "7747a4e0-e192-47ec-9e74-5908ad802fc1",
   "metadata": {},
   "outputs": [
    {
     "data": {
      "text/plain": [
       "0.5197551474680022"
      ]
     },
     "execution_count": 51,
     "metadata": {},
     "output_type": "execute_result"
    }
   ],
   "source": [
    "accuracy_score(y, y_pred)"
   ]
  },
  {
   "cell_type": "code",
   "execution_count": 53,
   "id": "0428f0b2-61a1-4d47-8820-db68d4980cc4",
   "metadata": {},
   "outputs": [
    {
     "name": "stdout",
     "output_type": "stream",
     "text": [
      "[0 1 1 2 3 4 5 6 7 9]\n",
      "[0 0 2 3 4 5 5 7 8 9]\n"
     ]
    }
   ],
   "source": [
    "print(f\"{Weak().predict()[:10]}\")\n",
    "print(f\"{Weak().predict()[:10]}\")"
   ]
  },
  {
   "cell_type": "code",
   "execution_count": 76,
   "id": "99885388-a29b-427f-8915-e45b9f60b281",
   "metadata": {},
   "outputs": [],
   "source": [
    "k = 5_000\n",
    "weaks = [Weak() for _ in range(k)]\n",
    "pred_list = [weak.predict() for weak in weaks]"
   ]
  },
  {
   "cell_type": "markdown",
   "id": "6372bcf4-07e8-4730-848d-95830abe4830",
   "metadata": {},
   "source": [
    "### Reminder on `Counter`"
   ]
  },
  {
   "cell_type": "code",
   "execution_count": 87,
   "id": "98b4451c-8a82-48cb-8d96-b4e085b73b20",
   "metadata": {},
   "outputs": [
    {
     "name": "stdout",
     "output_type": "stream",
     "text": [
      "c.most_common(3) = [(1, 17), (9, 13), (4, 11)]\n",
      "c.most_common(1) = [(1, 17)]\n"
     ]
    }
   ],
   "source": [
    "digits = np.random.randint(low=0, high=10, size=100)\n",
    "c = Counter(digits)\n",
    "print(f\"{c.most_common(3) = }\")\n",
    "print(f\"{c.most_common(1) = }\")"
   ]
  },
  {
   "cell_type": "code",
   "execution_count": 83,
   "id": "c34f2f4b-c627-4708-a646-89f29ba18949",
   "metadata": {},
   "outputs": [],
   "source": [
    "from collections import Counter\n",
    "from tqdm.auto import tqdm\n",
    "\n",
    "def hard_vote(pred_list):\n",
    "    final_pred = []\n",
    "    m = len(pred_list[0])\n",
    "    for i in tqdm(range(m)):\n",
    "        ith_preds = [pred[i] for pred in pred_list]\n",
    "        counter = Counter(ith_preds)\n",
    "        final_pred.append(counter.most_common(1)[0][0])\n",
    "    return final_pred"
   ]
  },
  {
   "cell_type": "code",
   "execution_count": 84,
   "id": "fe74ce70-9521-43d8-ad82-6b2ddb3d8e38",
   "metadata": {},
   "outputs": [
    {
     "data": {
      "application/json": {
       "ascii": false,
       "bar_format": null,
       "colour": null,
       "elapsed": 0.03202700614929199,
       "initial": 0,
       "n": 0,
       "ncols": null,
       "nrows": 33,
       "postfix": null,
       "prefix": "",
       "rate": null,
       "total": 1797,
       "unit": "it",
       "unit_divisor": 1000,
       "unit_scale": false
      },
      "application/vnd.jupyter.widget-view+json": {
       "model_id": "587acc3f556c4a648f26224f508cad69",
       "version_major": 2,
       "version_minor": 0
      },
      "text/plain": [
       "  0%|          | 0/1797 [00:00<?, ?it/s]"
      ]
     },
     "metadata": {},
     "output_type": "display_data"
    },
    {
     "data": {
      "text/plain": [
       "0.9972175848636616"
      ]
     },
     "execution_count": 84,
     "metadata": {},
     "output_type": "execute_result"
    }
   ],
   "source": [
    "y_vote = hard_vote(pred_list)\n",
    "accuracy_score(y, y_vote)"
   ]
  },
  {
   "cell_type": "code",
   "execution_count": null,
   "id": "92157501-4fd6-4aea-a610-e5395255a2d7",
   "metadata": {},
   "outputs": [],
   "source": []
  },
  {
   "cell_type": "code",
   "execution_count": null,
   "id": "fec9fdad-b190-4532-89ee-1171ec4cc5f0",
   "metadata": {},
   "outputs": [],
   "source": []
  }
 ],
 "metadata": {
  "kernelspec": {
   "display_name": "Python 3 (ipykernel)",
   "language": "python",
   "name": "python3"
  },
  "language_info": {
   "codemirror_mode": {
    "name": "ipython",
    "version": 3
   },
   "file_extension": ".py",
   "mimetype": "text/x-python",
   "name": "python",
   "nbconvert_exporter": "python",
   "pygments_lexer": "ipython3",
   "version": "3.10.4"
  }
 },
 "nbformat": 4,
 "nbformat_minor": 5
}
