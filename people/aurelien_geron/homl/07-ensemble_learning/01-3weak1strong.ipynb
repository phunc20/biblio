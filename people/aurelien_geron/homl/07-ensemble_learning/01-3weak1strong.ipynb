{
 "cells": [
  {
   "cell_type": "code",
   "execution_count": 14,
   "id": "30c2f5e9-2d5e-4e4d-b2b0-2c9f36050b8f",
   "metadata": {},
   "outputs": [],
   "source": [
    "from sklearn.datasets import load_digits"
   ]
  },
  {
   "cell_type": "code",
   "execution_count": 15,
   "id": "d3a591f3-4ecf-48a1-9ba2-b525a94d3873",
   "metadata": {},
   "outputs": [
    {
     "data": {
      "text/plain": [
       "((1797, 64), (1797,))"
      ]
     },
     "execution_count": 15,
     "metadata": {},
     "output_type": "execute_result"
    }
   ],
   "source": [
    "X, y = load_digits(return_X_y=True)\n",
    "X.shape, y.shape"
   ]
  },
  {
   "cell_type": "code",
   "execution_count": 16,
   "id": "13b2194d-9e78-4d5b-8994-28a59718792a",
   "metadata": {},
   "outputs": [],
   "source": [
    "import matplotlib.pyplot as plt\n",
    "plt.style.use(\"dark_background\")"
   ]
  },
  {
   "cell_type": "code",
   "execution_count": 26,
   "id": "be698dcc-fd79-4950-a61d-05c14759ce65",
   "metadata": {},
   "outputs": [
    {
     "data": {
      "image/png": "[encoded data removed]",
      "text/plain": [
       "<Figure size 640x480 with 10 Axes>"
      ]
     },
     "metadata": {},
     "output_type": "display_data"
    }
   ],
   "source": [
    "fig, ax = plt.subplots(2, 5, sharex=True, sharey=True)\n",
    "for i in range(2):\n",
    "    for j in range(5):\n",
    "        ax[i,j].imshow(X[5*i+j].reshape((8,8)), cmap=\"gray\")\n",
    "        ax[i,j].set_title(f\"X[{5*i+j}]\")\n",
    "        ax[i,j].set_xticks([])\n",
    "        ax[i,j].set_yticks([])"
   ]
  },
  {
   "cell_type": "markdown",
   "id": "51bc7d03-baef-48eb-b489-f32e39e6d67f",
   "metadata": {
    "tags": []
   },
   "source": [
    "We don't need `X`. Instead, by using `y` and `np.random`, we'd like to create\n",
    "a bunch of independent weak learners, which together form a strong learner."
   ]
  },
  {
   "cell_type": "markdown",
   "id": "be8e4488-1db5-4d96-a0bd-85c47b7d17c5",
   "metadata": {
    "tags": []
   },
   "source": [
    "#### Ref.\n",
    "- <>"
   ]
  },
  {
   "cell_type": "code",
   "execution_count": 27,
   "id": "a01ebda4-367e-41f2-a50e-005a0dfc8c2d",
   "metadata": {},
   "outputs": [
    {
     "data": {
      "text/plain": [
       "array([0, 1, 2, ..., 8, 9, 8])"
      ]
     },
     "execution_count": 27,
     "metadata": {},
     "output_type": "execute_result"
    }
   ],
   "source": [
    "y"
   ]
  },
  {
   "cell_type": "code",
   "execution_count": 28,
   "id": "6e41a4ac-2162-4f0f-809d-9b014b14ba05",
   "metadata": {},
   "outputs": [],
   "source": [
    "import numpy as np"
   ]
  },
  {
   "cell_type": "markdown",
   "id": "e4427aeb-ce49-43b7-94cd-78cb4f5bae51",
   "metadata": {},
   "source": []
  },
  {
   "cell_type": "code",
   "execution_count": 40,
   "id": "04913497-cb5c-4dc1-832a-30b461bbb9ef",
   "metadata": {},
   "outputs": [],
   "source": [
    "class Weak:\n",
    "    def __init__(self, p=0.51):\n",
    "        self.p = p\n",
    "\n",
    "    def predict(self):\n",
    "        # TODO: pass a rng\n",
    "        #incorrect = np.random.randint(low=0, high=10, size=len(y))\n",
    "        incorrect = (y - 1) % 10\n",
    "        correct = y\n",
    "        n_True = int(self.p * len(y))\n",
    "        n_False = len(y) - n_True\n",
    "        conditions = [True] * n_True + [False] * n_False\n",
    "        np.random.shuffle(conditions)\n",
    "        y_pred = np.where(conditions, correct, incorrect)\n",
    "        return y_pred"
   ]
  },
  {
   "cell_type": "code",
   "execution_count": 41,
   "id": "dc45b379-5eb3-4771-9984-ab6d4125d1df",
   "metadata": {},
   "outputs": [],
   "source": [
    "weak = Weak()"
   ]
  },
  {
   "cell_type": "code",
   "execution_count": 42,
   "id": "01e1b761-e382-426b-843a-0d5e25fae5e6",
   "metadata": {},
   "outputs": [],
   "source": [
    "y_pred = weak.predict()"
   ]
  },
  {
   "cell_type": "markdown",
   "id": "c3250715-1d8a-4202-9bed-eaec5abd8d73",
   "metadata": {},
   "source": [
    "- <https://scikit-learn.org/stable/modules/model_evaluation.html>"
   ]
  },
  {
   "cell_type": "code",
   "execution_count": 43,
   "id": "b9f7a8c6-6f55-496d-b08b-093ec560661d",
   "metadata": {},
   "outputs": [],
   "source": [
    "from sklearn.metrics import accuracy_score"
   ]
  },
  {
   "cell_type": "code",
   "execution_count": 44,
   "id": "571bfa3a-9241-4e49-a7fc-5663981b9795",
   "metadata": {},
   "outputs": [
    {
     "data": {
      "text/plain": [
       "False"
      ]
     },
     "execution_count": 44,
     "metadata": {},
     "output_type": "execute_result"
    }
   ],
   "source": [
    "np.array_equal(Weak().predict(), Weak().predict())"
   ]
  },
  {
   "cell_type": "code",
   "execution_count": 45,
   "id": "7747a4e0-e192-47ec-9e74-5908ad802fc1",
   "metadata": {},
   "outputs": [
    {
     "data": {
      "text/plain": [
       "0.5097384529771842"
      ]
     },
     "execution_count": 45,
     "metadata": {},
     "output_type": "execute_result"
    }
   ],
   "source": [
    "accuracy_score(y, y_pred)"
   ]
  },
  {
   "cell_type": "code",
   "execution_count": 62,
   "id": "0428f0b2-61a1-4d47-8820-db68d4980cc4",
   "metadata": {},
   "outputs": [
    {
     "name": "stdout",
     "output_type": "stream",
     "text": [
      "[9 1 2 2 4 4 6 6 8 9]\n",
      "[9 0 2 2 4 5 5 6 7 9]\n",
      "[9 1 1 3 3 4 5 6 7 8]\n"
     ]
    }
   ],
   "source": [
    "print(f\"{Weak().predict()[:10]}\")\n",
    "print(f\"{Weak().predict()[:10]}\")\n",
    "print(f\"{Weak().predict()[:10]}\")"
   ]
  },
  {
   "cell_type": "code",
   "execution_count": 61,
   "id": "58d27e79-da3f-49b7-8e24-9719cf248fdd",
   "metadata": {},
   "outputs": [
    {
     "name": "stdout",
     "output_type": "stream",
     "text": [
      "accuracies = [0.5097384529771842, 0.5097384529771842, 0.5097384529771842, 0.5097384529771842, 0.5097384529771842, 0.5097384529771842, 0.5097384529771842, 0.5097384529771842, 0.5097384529771842, 0.5097384529771842]\n"
     ]
    }
   ],
   "source": [
    "k = 10\n",
    "weaks = [Weak() for _ in range(k)]\n",
    "accuracies= [accuracy_score(y, weak.predict()) for weak in weaks]\n",
    "print(f\"{accuracies = }\")"
   ]
  },
  {
   "cell_type": "code",
   "execution_count": 54,
   "id": "99885388-a29b-427f-8915-e45b9f60b281",
   "metadata": {},
   "outputs": [],
   "source": [
    "k = 10_000\n",
    "weaks = [Weak() for _ in range(k)]\n",
    "pred_list = [weak.predict() for weak in weaks]"
   ]
  },
  {
   "cell_type": "markdown",
   "id": "6372bcf4-07e8-4730-848d-95830abe4830",
   "metadata": {},
   "source": [
    "### Reminder on `Counter`"
   ]
  },
  {
   "cell_type": "code",
   "execution_count": 55,
   "id": "d0368ef4-0ea0-42d7-8854-c1ef5607bbb3",
   "metadata": {},
   "outputs": [],
   "source": [
    "from collections import Counter"
   ]
  },
  {
   "cell_type": "code",
   "execution_count": 56,
   "id": "98b4451c-8a82-48cb-8d96-b4e085b73b20",
   "metadata": {},
   "outputs": [
    {
     "name": "stdout",
     "output_type": "stream",
     "text": [
      "c.most_common(3) = [(2, 16), (9, 14), (1, 13)]\n",
      "c.most_common(1) = [(2, 16)]\n"
     ]
    }
   ],
   "source": [
    "digits = np.random.randint(low=0, high=10, size=100)\n",
    "c = Counter(digits)\n",
    "print(f\"{c.most_common(3) = }\")\n",
    "print(f\"{c.most_common(1) = }\")"
   ]
  },
  {
   "cell_type": "code",
   "execution_count": 57,
   "id": "c34f2f4b-c627-4708-a646-89f29ba18949",
   "metadata": {},
   "outputs": [],
   "source": [
    "from collections import Counter\n",
    "from tqdm.auto import tqdm\n",
    "\n",
    "def hard_vote(pred_list):\n",
    "    final_pred = []\n",
    "    m = len(pred_list[0])\n",
    "    for i in tqdm(range(m)):\n",
    "        ith_preds = [pred[i] for pred in pred_list]\n",
    "        counter = Counter(ith_preds)\n",
    "        final_pred.append(counter.most_common(1)[0][0])\n",
    "    return final_pred"
   ]
  },
  {
   "cell_type": "code",
   "execution_count": 58,
   "id": "fe74ce70-9521-43d8-ad82-6b2ddb3d8e38",
   "metadata": {},
   "outputs": [
    {
     "data": {
      "application/json": {
       "ascii": false,
       "bar_format": null,
       "colour": null,
       "elapsed": 0.024776935577392578,
       "initial": 0,
       "n": 0,
       "ncols": null,
       "nrows": 32,
       "postfix": null,
       "prefix": "",
       "rate": null,
       "total": 1797,
       "unit": "it",
       "unit_divisor": 1000,
       "unit_scale": false
      },
      "application/vnd.jupyter.widget-view+json": {
       "model_id": "edbd2b5e8e69491eabfaa88cc25ee5ce",
       "version_major": 2,
       "version_minor": 0
      },
      "text/plain": [
       "  0%|          | 0/1797 [00:00<?, ?it/s]"
      ]
     },
     "metadata": {},
     "output_type": "display_data"
    },
    {
     "data": {
      "text/plain": [
       "0.9710628825820813"
      ]
     },
     "execution_count": 58,
     "metadata": {},
     "output_type": "execute_result"
    }
   ],
   "source": [
    "y_vote = hard_vote(pred_list)\n",
    "accuracy_score(y, y_vote)"
   ]
  },
  {
   "cell_type": "code",
   "execution_count": null,
   "id": "92157501-4fd6-4aea-a610-e5395255a2d7",
   "metadata": {},
   "outputs": [],
   "source": []
  },
  {
   "cell_type": "code",
   "execution_count": null,
   "id": "fec9fdad-b190-4532-89ee-1171ec4cc5f0",
   "metadata": {},
   "outputs": [],
   "source": []
  }
 ],
 "metadata": {
  "kernelspec": {
   "display_name": "Python 3 (ipykernel)",
   "language": "python",
   "name": "python3"
  },
  "language_info": {
   "codemirror_mode": {
    "name": "ipython",
    "version": 3
   },
   "file_extension": ".py",
   "mimetype": "text/x-python",
   "name": "python",
   "nbconvert_exporter": "python",
   "pygments_lexer": "ipython3",
   "version": "3.10.4"
  }
 },
 "nbformat": 4,
 "nbformat_minor": 5
}
