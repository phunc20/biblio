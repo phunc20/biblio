{
 "cells": [
  {
   "cell_type": "markdown",
   "id": "97b93bff-3a64-4ab2-aab5-6a06bfbbc9b0",
   "metadata": {},
   "source": [
    "# 97%"
   ]
  },
  {
   "cell_type": "markdown",
   "id": "ffef01a4-e30e-40cb-ab33-fdec86e0c5d3",
   "metadata": {},
   "source": [
    "<table align=\"left\">\n",
    "  <td>\n",
    "    <a href=\"https://colab.research.google.com/github/phunc20/biblio/blob/main/people/aurelien_geron/homl/07-ensemble_learning/notebooks/04.12.half_binomial_sum.ipynb\" target=\"_parent\"><img src=\"https://colab.research.google.com/assets/colab-badge.svg\" alt=\"Open In Colab\"/></a>\n",
    "  </td>\n",
    "</table>"
   ]
  },
  {
   "cell_type": "code",
   "execution_count": null,
   "id": "0450482c-1cd9-4e7a-9adb-17bda1856fa5",
   "metadata": {},
   "outputs": [],
   "source": [
    "import sys"
   ]
  },
  {
   "cell_type": "code",
   "execution_count": null,
   "id": "2c8ab9c7-d9d4-4517-b4a6-691dc1e80299",
   "metadata": {},
   "outputs": [],
   "source": [
    "IN_COLAB = \"google.colab\" in sys.modules\n",
    "if IN_COLAB:\n",
    "    %pip install matplotlib==3.6.1 numpy==1.23.1 \\\n",
    "         scikit-learn==1.1.2 scipy==1.9.0 tqdm==4.64.0"
   ]
  },
  {
   "cell_type": "markdown",
   "id": "9b1b974d-ef29-498b-8172-c460ec31455d",
   "metadata": {},
   "source": [
    "In this notebook, we simply want our computer to help us compute\n",
    "$$\n",
    "\\newcommand{\\nchoosek}[2]{\\begin{pmatrix}#1\\\\#2\\end{pmatrix}}\n",
    "P(\\text{# Heads} > \\text{# Tails}) = \\sum_{k=\\lfloor \\frac{n}{2} \\rfloor + 1}^{n} \\nchoosek{n}{k} p^{k}(1-p)^{n-k}\n",
    "$$\n",
    "when $n = 10000$ because it'll be painful if we are to compute it\n",
    "manually by pencil and paper."
   ]
  },
  {
   "cell_type": "markdown",
   "id": "3eea7790-07ed-4cb3-b6db-e96083aadaa5",
   "metadata": {},
   "source": [
    "## Word-by-word implementation"
   ]
  },
  {
   "cell_type": "code",
   "execution_count": 1,
   "id": "3fde0f44-ade6-4da5-8100-b0488d795263",
   "metadata": {},
   "outputs": [],
   "source": [
    "import math\n",
    "import traceback\n",
    "from tqdm.auto import tqdm"
   ]
  },
  {
   "cell_type": "code",
   "execution_count": 2,
   "id": "1ad5407b-3cb6-43cf-a898-0f66dca8c2a8",
   "metadata": {
    "tags": []
   },
   "outputs": [],
   "source": [
    "#math.comb?"
   ]
  },
  {
   "cell_type": "code",
   "execution_count": 3,
   "id": "acf2e5d7-0e35-4e75-be2f-8fb17e7a4ecd",
   "metadata": {},
   "outputs": [],
   "source": [
    "def get_binomial_sum(n, x, y, *, start=None, end=None):\n",
    "    if end is None:\n",
    "        end = n+1\n",
    "    if start is None:\n",
    "        start = n//2 + 1\n",
    "    try:\n",
    "        return sum(\n",
    "            get_kth_binomial_term(x, y, n, k) \\\n",
    "            for k in tqdm(range(start, end))\n",
    "        )\n",
    "    except Exception:\n",
    "        traceback.print_exc()"
   ]
  },
  {
   "cell_type": "code",
   "execution_count": 4,
   "id": "505d49e4-58f7-47d7-b2a4-e2005465e2fc",
   "metadata": {},
   "outputs": [],
   "source": [
    "def get_proba_binomial_sum(n, p, *, start=None, end=None):\n",
    "    assert 0 <= p <= 1\n",
    "    return get_binomial_sum(n, p, 1-p, start=start, end=end)"
   ]
  },
  {
   "cell_type": "code",
   "execution_count": 5,
   "id": "bdd63669-9529-4cfe-8b79-ab50e113c588",
   "metadata": {},
   "outputs": [],
   "source": [
    "def get_kth_binomial_term(x, y, n, k):\n",
    "    return math.comb(n, k) * x**k * y**(n-k)"
   ]
  },
  {
   "cell_type": "code",
   "execution_count": 6,
   "id": "2946e470-eb85-4afe-93e4-7b2f3f566d94",
   "metadata": {},
   "outputs": [
    {
     "data": {
      "application/json": {
       "ascii": false,
       "bar_format": null,
       "colour": null,
       "elapsed": 0.10900545120239258,
       "initial": 0,
       "n": 0,
       "ncols": null,
       "nrows": 32,
       "postfix": null,
       "prefix": "",
       "rate": null,
       "total": 500,
       "unit": "it",
       "unit_divisor": 1000,
       "unit_scale": false
      },
      "application/vnd.jupyter.widget-view+json": {
       "model_id": "81b199fddcd64af0af663d6527977545",
       "version_major": 2,
       "version_minor": 0
      },
      "text/plain": [
       "  0%|          | 0/500 [00:00<?, ?it/s]"
      ]
     },
     "metadata": {},
     "output_type": "display_data"
    },
    {
     "data": {
      "text/plain": [
       "0.7260985557305037"
      ]
     },
     "execution_count": 6,
     "metadata": {},
     "output_type": "execute_result"
    }
   ],
   "source": [
    "get_proba_binomial_sum(1000, 0.51)"
   ]
  },
  {
   "cell_type": "code",
   "execution_count": 7,
   "id": "498b75f1-5170-45dc-9f4a-60ddf44acc8a",
   "metadata": {},
   "outputs": [
    {
     "data": {
      "application/json": {
       "ascii": false,
       "bar_format": null,
       "colour": null,
       "elapsed": 0.13531804084777832,
       "initial": 0,
       "n": 0,
       "ncols": null,
       "nrows": 32,
       "postfix": null,
       "prefix": "",
       "rate": null,
       "total": 5000,
       "unit": "it",
       "unit_divisor": 1000,
       "unit_scale": false
      },
      "application/vnd.jupyter.widget-view+json": {
       "model_id": "be9acd43db1a450b8d837d9a7ec2fd5c",
       "version_major": 2,
       "version_minor": 0
      },
      "text/plain": [
       "  0%|          | 0/5000 [00:00<?, ?it/s]"
      ]
     },
     "metadata": {},
     "output_type": "display_data"
    },
    {
     "name": "stderr",
     "output_type": "stream",
     "text": [
      "Traceback (most recent call last):\n",
      "  File \"/tmp/ipykernel_11794/1104494544.py\", line 7, in get_binomial_sum\n",
      "    return sum(\n",
      "  File \"/tmp/ipykernel_11794/1104494544.py\", line 8, in <genexpr>\n",
      "    get_kth_binomial_term(x, y, n, k) \\\n",
      "  File \"/tmp/ipykernel_11794/3365766825.py\", line 2, in get_kth_binomial_term\n",
      "    return math.comb(n, k) * x**k * y**(n-k)\n",
      "OverflowError: int too large to convert to float\n"
     ]
    }
   ],
   "source": [
    "get_proba_binomial_sum(10_000, 0.51)"
   ]
  },
  {
   "cell_type": "markdown",
   "id": "393a8e18-ec10-4c1f-a084-62d5075bfad4",
   "metadata": {},
   "source": [
    "Reading the error message, we're kind of able to guess that\n",
    "`math.comb(n, k)` reaches too large an integer such that it exceeds\n",
    "the largest 64-bit floating-point number.\n",
    "\n",
    "The next cell is designed to confirm that guess."
   ]
  },
  {
   "cell_type": "code",
   "execution_count": 8,
   "id": "dd709495-45ea-49d0-bc20-ecf262d759d5",
   "metadata": {},
   "outputs": [
    {
     "name": "stderr",
     "output_type": "stream",
     "text": [
      "Traceback (most recent call last):\n",
      "  File \"/tmp/ipykernel_11794/1688019946.py\", line 4, in <module>\n",
      "    float(math.comb(n, k))\n",
      "OverflowError: int too large to convert to float\n"
     ]
    }
   ],
   "source": [
    "n = 10_000\n",
    "k = n//2\n",
    "try:\n",
    "    float(math.comb(n, k))\n",
    "except Exception:\n",
    "    traceback.print_exc()"
   ]
  },
  {
   "cell_type": "markdown",
   "id": "223da965-56ae-44df-8490-12d5a772b438",
   "metadata": {},
   "source": [
    "This is actually quite common if you have experience calculating $n$\n",
    "choose $k$ -- it just grows exponentially."
   ]
  },
  {
   "cell_type": "markdown",
   "id": "1423abe4-473c-4feb-8262-71a425c7fd5a",
   "metadata": {},
   "source": [
    "## Maybe it's just `math` package's fault\n",
    "Well, let's try another package's `comb` function then. Say, `scipy`'s."
   ]
  },
  {
   "cell_type": "code",
   "execution_count": 9,
   "id": "288c9049-1a9c-499d-aaee-48b5eb361961",
   "metadata": {},
   "outputs": [],
   "source": [
    "import scipy"
   ]
  },
  {
   "cell_type": "code",
   "execution_count": 10,
   "id": "4eb58ba0-ce1a-4b40-8713-62707b7f1e9a",
   "metadata": {},
   "outputs": [],
   "source": [
    "n = 10_000\n",
    "k = n//2\n",
    "try:\n",
    "    n_choose_k = float(scipy.special.comb(n, k))\n",
    "except Exception:\n",
    "    traceback.print_exc()"
   ]
  },
  {
   "cell_type": "code",
   "execution_count": 11,
   "id": "4091766e-cfc4-4715-923e-eed460d035e7",
   "metadata": {},
   "outputs": [
    {
     "data": {
      "text/plain": [
       "inf"
      ]
     },
     "execution_count": 11,
     "metadata": {},
     "output_type": "execute_result"
    }
   ],
   "source": [
    "n_choose_k"
   ]
  },
  {
   "cell_type": "code",
   "execution_count": 12,
   "id": "fe017329-351d-46b4-8814-afec9fec4e9a",
   "metadata": {},
   "outputs": [],
   "source": [
    "def get_kth_binomial_term(x, y, n, k):\n",
    "    return scipy.special.comb(n, k) * x**k * y**(n-k)"
   ]
  },
  {
   "cell_type": "code",
   "execution_count": 13,
   "id": "cb7e5b07-b33c-4a5a-8939-6f98dd1fee99",
   "metadata": {},
   "outputs": [
    {
     "data": {
      "application/json": {
       "ascii": false,
       "bar_format": null,
       "colour": null,
       "elapsed": 0.1366901397705078,
       "initial": 0,
       "n": 0,
       "ncols": null,
       "nrows": 32,
       "postfix": null,
       "prefix": "",
       "rate": null,
       "total": 5000,
       "unit": "it",
       "unit_divisor": 1000,
       "unit_scale": false
      },
      "application/vnd.jupyter.widget-view+json": {
       "model_id": "6c9e1d0ab5df4a6da788e8ea8fcf0a0c",
       "version_major": 2,
       "version_minor": 0
      },
      "text/plain": [
       "  0%|          | 0/5000 [00:00<?, ?it/s]"
      ]
     },
     "metadata": {},
     "output_type": "display_data"
    },
    {
     "name": "stderr",
     "output_type": "stream",
     "text": [
      "/tmp/ipykernel_11794/2892321558.py:2: RuntimeWarning: invalid value encountered in double_scalars\n",
      "  return scipy.special.comb(n, k) * x**k * y**(n-k)\n"
     ]
    },
    {
     "data": {
      "text/plain": [
       "nan"
      ]
     },
     "execution_count": 13,
     "metadata": {},
     "output_type": "execute_result"
    }
   ],
   "source": [
    "get_proba_binomial_sum(10_000, 0.51)"
   ]
  },
  {
   "cell_type": "markdown",
   "id": "3d47b555-8f24-4392-93ca-e78adb8e50aa",
   "metadata": {},
   "source": [
    "Well, this is pretty much the same, only that `scipy` doesn't crash\n",
    "with `OverflowError`."
   ]
  },
  {
   "cell_type": "markdown",
   "id": "a4fd8e6d-a4e1-4203-8897-092810c6527b",
   "metadata": {},
   "source": [
    "## 1st remedy"
   ]
  },
  {
   "cell_type": "markdown",
   "id": "2f7323a7-bcd4-43f4-81be-084b0cab84b8",
   "metadata": {},
   "source": [
    "If `math.comb(n, k)` grows exponentially, let's\n",
    "- not compute it entirely\n",
    "- combine the powers of probability, i.e. $p^k$ and $(1-p)^{n-k}$, into it to slow down the growth"
   ]
  },
  {
   "cell_type": "code",
   "execution_count": 14,
   "id": "d95bbe91-caa8-4b38-a0e4-3a719b4c383c",
   "metadata": {},
   "outputs": [],
   "source": [
    "import numpy as np"
   ]
  },
  {
   "cell_type": "code",
   "execution_count": 15,
   "id": "46014863-cf00-4d09-9d51-e2dab0b02d01",
   "metadata": {},
   "outputs": [],
   "source": [
    "def get_kth_binomial_term(x, y, n, k):\n",
    "    p, q = max(k, n-k), min(k, n-k)\n",
    "    B = np.arange(n-q+1, n+1) / np.arange(1, q+1)\n",
    "    res = np.prod(\n",
    "        B,\n",
    "        initial=x**k * y**(n-k),\n",
    "    )\n",
    "    return res"
   ]
  },
  {
   "cell_type": "code",
   "execution_count": 16,
   "id": "b86e2076-5d4c-4979-a58b-d5c2dc0de5d6",
   "metadata": {},
   "outputs": [],
   "source": [
    "n = 10_000\n",
    "k = n//2\n",
    "p = 0.51\n",
    "try:\n",
    "    kth_term = get_kth_binomial_term(p, 1-p, n, k)\n",
    "except Exception:\n",
    "    traceback.print_exc()"
   ]
  },
  {
   "cell_type": "code",
   "execution_count": 17,
   "id": "7d40293e-5a52-42a3-b2b2-fcb60fb0c2ba",
   "metadata": {},
   "outputs": [
    {
     "data": {
      "text/plain": [
       "0.0"
      ]
     },
     "execution_count": 17,
     "metadata": {},
     "output_type": "execute_result"
    }
   ],
   "source": [
    "kth_term"
   ]
  },
  {
   "cell_type": "code",
   "execution_count": 18,
   "id": "8d40bec9-8efb-430d-9535-42a76775f0c0",
   "metadata": {},
   "outputs": [
    {
     "data": {
      "application/json": {
       "ascii": false,
       "bar_format": null,
       "colour": null,
       "elapsed": 0.12007808685302734,
       "initial": 0,
       "n": 0,
       "ncols": null,
       "nrows": 32,
       "postfix": null,
       "prefix": "",
       "rate": null,
       "total": 5000,
       "unit": "it",
       "unit_divisor": 1000,
       "unit_scale": false
      },
      "application/vnd.jupyter.widget-view+json": {
       "model_id": "9a480d5f716b42ea812d3041177f5923",
       "version_major": 2,
       "version_minor": 0
      },
      "text/plain": [
       "  0%|          | 0/5000 [00:00<?, ?it/s]"
      ]
     },
     "metadata": {},
     "output_type": "display_data"
    },
    {
     "data": {
      "text/plain": [
       "0.0"
      ]
     },
     "execution_count": 18,
     "metadata": {},
     "output_type": "execute_result"
    }
   ],
   "source": [
    "get_proba_binomial_sum(10_000, 0.51)"
   ]
  },
  {
   "cell_type": "markdown",
   "id": "0205d380-f950-445f-a0d9-d6937c6e7e23",
   "metadata": {},
   "source": [
    "We seem to have gone to the other extreme -- Every term becomes so small that it's virtually zero. This must be wrong. `get_proba_binomial_sum(10_000, 0.51)` should not give `0`."
   ]
  },
  {
   "cell_type": "markdown",
   "id": "ca97e6d3-fbd1-46b9-8dbc-2dc964213148",
   "metadata": {},
   "source": [
    "## 2nd remedy"
   ]
  },
  {
   "cell_type": "markdown",
   "id": "dd5cba4a-2c59-4e7b-a100-896917ee024a",
   "metadata": {},
   "source": [
    "This time let's try to avoid the floating-point overflow simply\n",
    "by making use of logarithms:\n",
    "$$\n",
    "\\begin{aligned}\n",
    "\\nchoosek{n}{k} x^{k} y^{n-k}\n",
    "&= \\exp \\left(\\ln \\left(\\nchoosek{n}{k} x^{k} y^{n-k} \\right) \\right) \\\\\n",
    "&= \\exp \\left(\n",
    "    \\ln \\left(\\nchoosek{n}{k}\\right)\n",
    "    + k \\ln x\n",
    "    + \\left(n-k \\right) \\ln y\n",
    "  \\right)\n",
    "\\end{aligned}\n",
    "$$"
   ]
  },
  {
   "cell_type": "code",
   "execution_count": 19,
   "id": "a7c0f8c3-3fbf-4b72-88aa-fa2e1f6bef99",
   "metadata": {},
   "outputs": [],
   "source": [
    "def get_kth_binomial_term(x, y, n, k):\n",
    "    A = math.log(math.comb(n,k))\n",
    "    B = k * math.log(x)\n",
    "    C = (n-k) * math.log(y)\n",
    "    return math.exp(A+B+C)"
   ]
  },
  {
   "cell_type": "code",
   "execution_count": 20,
   "id": "59905c59-aac4-4e59-8974-b8f2df10d041",
   "metadata": {},
   "outputs": [],
   "source": [
    "n = 10_000\n",
    "k = n//2\n",
    "p = 0.51\n",
    "try:\n",
    "    kth_term = get_kth_binomial_term(p, 1-p, n, k)\n",
    "except Exception:\n",
    "    traceback.print_exc()"
   ]
  },
  {
   "cell_type": "code",
   "execution_count": 21,
   "id": "2a204a36-e988-404d-ac38-9de94eb9517c",
   "metadata": {},
   "outputs": [
    {
     "data": {
      "text/plain": [
       "0.0010793603893886128"
      ]
     },
     "execution_count": 21,
     "metadata": {},
     "output_type": "execute_result"
    }
   ],
   "source": [
    "kth_term"
   ]
  },
  {
   "cell_type": "code",
   "execution_count": 22,
   "id": "621d9762-e1a1-4ec6-b09a-abb7e69d514d",
   "metadata": {},
   "outputs": [
    {
     "data": {
      "application/json": {
       "ascii": false,
       "bar_format": null,
       "colour": null,
       "elapsed": 0.12624740600585938,
       "initial": 0,
       "n": 0,
       "ncols": null,
       "nrows": 32,
       "postfix": null,
       "prefix": "",
       "rate": null,
       "total": 5000,
       "unit": "it",
       "unit_divisor": 1000,
       "unit_scale": false
      },
      "application/vnd.jupyter.widget-view+json": {
       "model_id": "21b8b611e7b6441991b30bf166b6bda9",
       "version_major": 2,
       "version_minor": 0
      },
      "text/plain": [
       "  0%|          | 0/5000 [00:00<?, ?it/s]"
      ]
     },
     "metadata": {},
     "output_type": "display_data"
    },
    {
     "data": {
      "text/plain": [
       "0.9767182874802731"
      ]
     },
     "execution_count": 22,
     "metadata": {},
     "output_type": "execute_result"
    }
   ],
   "source": [
    "get_proba_binomial_sum(10_000, 0.51)"
   ]
  },
  {
   "cell_type": "code",
   "execution_count": 23,
   "id": "b59feedb-bb8d-416c-8982-346bc0676f58",
   "metadata": {},
   "outputs": [
    {
     "data": {
      "application/json": {
       "ascii": false,
       "bar_format": null,
       "colour": null,
       "elapsed": 0.11401748657226562,
       "initial": 0,
       "n": 0,
       "ncols": null,
       "nrows": 32,
       "postfix": null,
       "prefix": "",
       "rate": null,
       "total": 500,
       "unit": "it",
       "unit_divisor": 1000,
       "unit_scale": false
      },
      "application/vnd.jupyter.widget-view+json": {
       "model_id": "cdb4f87b055d4692b73712b057e2b8ec",
       "version_major": 2,
       "version_minor": 0
      },
      "text/plain": [
       "  0%|          | 0/500 [00:00<?, ?it/s]"
      ]
     },
     "metadata": {},
     "output_type": "display_data"
    },
    {
     "data": {
      "text/plain": [
       "0.7260985557304759"
      ]
     },
     "execution_count": 23,
     "metadata": {},
     "output_type": "execute_result"
    }
   ],
   "source": [
    "get_proba_binomial_sum(1000, 0.51)"
   ]
  },
  {
   "cell_type": "code",
   "execution_count": null,
   "id": "77035243-234e-4417-a735-16b69683aaf3",
   "metadata": {},
   "outputs": [],
   "source": []
  }
 ],
 "metadata": {
  "kernelspec": {
   "display_name": "Python 3 (ipykernel)",
   "language": "python",
   "name": "python3"
  },
  "language_info": {
   "codemirror_mode": {
    "name": "ipython",
    "version": 3
   },
   "file_extension": ".py",
   "mimetype": "text/x-python",
   "name": "python",
   "nbconvert_exporter": "python",
   "pygments_lexer": "ipython3",
   "version": "3.10.0"
  }
 },
 "nbformat": 4,
 "nbformat_minor": 5
}
