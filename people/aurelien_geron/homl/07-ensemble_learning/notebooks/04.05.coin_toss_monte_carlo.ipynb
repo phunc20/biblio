{
 "cells": [
  {
   "cell_type": "markdown",
   "id": "8575ea9b-73a3-4ba8-a3a6-336941c08637",
   "metadata": {},
   "source": [
    "# Monte Carlo (Biased Coin Toss)"
   ]
  },
  {
   "cell_type": "markdown",
   "id": "ac731a72-826c-4a0d-a257-7060bc396660",
   "metadata": {},
   "source": [
    "<table align=\"left\">\n",
    "  <td>\n",
    "    <a href=\"https://colab.research.google.com/github/phunc20/biblio/blob/main/people/aurelien_geron/homl/07-ensemble_learning/notebooks/04.05.coin_toss_monte_carlo.ipynb\" target=\"_parent\"><img src=\"https://colab.research.google.com/assets/colab-badge.svg\" alt=\"Open In Colab\"/></a>\n",
    "  </td>\n",
    "</table>"
   ]
  },
  {
   "cell_type": "code",
   "execution_count": 1,
   "id": "af89f7e0-4d3a-428e-a809-9ea0207dfd31",
   "metadata": {},
   "outputs": [],
   "source": [
    "import sys"
   ]
  },
  {
   "cell_type": "code",
   "execution_count": null,
   "id": "5adec857-8c47-4b6c-8325-c4eefb108845",
   "metadata": {},
   "outputs": [],
   "source": [
    "IN_COLAB = \"google.colab\" in sys.modules\n",
    "if IN_COLAB:\n",
    "    %pip install matplotlib==3.6.1 numpy==1.23.1 \\\n",
    "         scikit-learn==1.1.2 scipy==1.9.0 tqdm==4.64.0"
   ]
  },
  {
   "cell_type": "markdown",
   "id": "41b08e4a-21bd-424c-8483-3c297e7b7879",
   "metadata": {},
   "source": [
    "For those readers who are familiar with Monte Carlo methods,\n",
    "they could safely skip this notebook.  \n",
    "But, should they choose to stay, perhaps the most valuable thing\n",
    "they could possibly learn is the `__new__` method of Python class.\n",
    "\n",
    "If they've also, unluckily, already known about `__new__`, and\n",
    "if they're busy, then skipping this notebook entirely might be a wiser decision than keeping on reading."
   ]
  },
  {
   "cell_type": "markdown",
   "id": "ea677c20-aba1-4f29-ae58-1a910ab43c8d",
   "metadata": {},
   "source": [
    "## Bernoulli Distribution"
   ]
  },
  {
   "cell_type": "markdown",
   "id": "03040e0e-cc44-40c5-8942-ce97cfb903fe",
   "metadata": {},
   "source": [
    "In mathematics, people name _distribution_ which behaves\n",
    "like _coin toss_ after the family name of\n",
    "Bernoulli, several of whose family members made great achievements in\n",
    "physics and in math in the 17th and 18th centuries.\n",
    "\n",
    "We won't dive into introducing what a distribution is or\n",
    "what a random variable is. For us, it suffices to know that a _random\n",
    "variable with Bernoulli distribution_ is simply sth which will turn out to be\n",
    "- either $1$\n",
    "- or $0$\n",
    "\n",
    "just like a coin will only turn out to face up either Head or Tail,  \n",
    "and that there is a constant probability $p \\in [0, 1]$ such that\n",
    "\n",
    "$$\n",
    "\\begin{aligned}\n",
    "  P(X=1) &= p \\\\\n",
    "  P(X=0) &= 1-p\n",
    "\\end{aligned}\n",
    "$$\n",
    "\n",
    "(For convenience, one can think of Head as $1$ and Tail as $0$.)\n",
    "\n",
    "**Rmk.** If, at the end of this notebook, you find yourself becoming interested in random\n",
    "variables or probability theory in general, which I find is of little chance though,\n",
    "there are many online resources to dig in deeper. For example, the French school of\n",
    "probability is particular famous, cf. e.g. [Jean-François Le Gall](https://www.imo.universite-paris-saclay.fr/~jean-francois.le-gall/IPPA2.pdf)"
   ]
  },
  {
   "cell_type": "markdown",
   "id": "87547a0b-b97b-499e-a11c-2586dcf75bc2",
   "metadata": {},
   "source": [
    "## Simulation"
   ]
  },
  {
   "cell_type": "markdown",
   "id": "ff2b33eb-eded-4400-93c8-1b910d6247c1",
   "metadata": {},
   "source": [
    "Too much theory. Let's go back to code.\n",
    "\n",
    "Basically, we are simply going to simulate a lot of coin tosses\n",
    "and see if we could obtain\n",
    "- $75\\%$ with $1,000$ tosses\n",
    "- $97\\%$ with $10,000$ tosses"
   ]
  },
  {
   "cell_type": "code",
   "execution_count": 1,
   "id": "3679f86e-172c-4fb3-8c4b-a4ed3ae310ce",
   "metadata": {},
   "outputs": [],
   "source": [
    "import random"
   ]
  },
  {
   "cell_type": "code",
   "execution_count": 2,
   "id": "510f45e9-6110-40c0-80b0-68d8d2f6f7df",
   "metadata": {},
   "outputs": [],
   "source": [
    "class Bernoulli(int):\n",
    "    def __new__(self, p=0.51):\n",
    "        \"\"\"\n",
    "        think of p as the probability of turning up Head\n",
    "        \"\"\"\n",
    "        #return int(np.random.uniform() < p)\n",
    "        return random.uniform(0,1) < p"
   ]
  },
  {
   "cell_type": "markdown",
   "id": "278ecd59-cb4f-48f2-90f6-852abd48fd06",
   "metadata": {
    "tags": []
   },
   "source": [
    "**Rmk.** For more info on `__new__`, cf. e.g.\n",
    "[YouTuber mCoding](https://www.youtube.com/watch?v=-zsV0_QrfTw)"
   ]
  },
  {
   "cell_type": "markdown",
   "id": "1f92dd58-6993-4c55-809f-a999ed9d6f1a",
   "metadata": {},
   "source": [
    "### Unit Test(s)"
   ]
  },
  {
   "cell_type": "markdown",
   "id": "3530eb33-726d-41fc-857e-a4a471a1d773",
   "metadata": {},
   "source": [
    "Let's use the following function as a unit test for our\n",
    "`Bernoulli` class: We expect to obtain `head_freq` close to\n",
    "`p`."
   ]
  },
  {
   "cell_type": "code",
   "execution_count": 3,
   "id": "5620f31d-2dbb-48c0-8e3e-6e19e5de4e76",
   "metadata": {},
   "outputs": [],
   "source": [
    "def get_head_freq(*, n_tosses=10_000, p=0.51):\n",
    "    Xs = [Bernoulli(p) for _ in range(n_tosses)]\n",
    "    n_heads = sum(Xs)\n",
    "    return n_heads/n_tosses"
   ]
  },
  {
   "cell_type": "code",
   "execution_count": 4,
   "id": "03d14d21-5259-4e22-b68e-1eb987534b05",
   "metadata": {},
   "outputs": [
    {
     "data": {
      "text/plain": [
       "0.5039"
      ]
     },
     "execution_count": 4,
     "metadata": {},
     "output_type": "execute_result"
    }
   ],
   "source": [
    "get_head_freq()"
   ]
  },
  {
   "cell_type": "code",
   "execution_count": 5,
   "id": "dd4af27a-3854-4b44-bacf-ffa72d028b5c",
   "metadata": {},
   "outputs": [
    {
     "name": "stdout",
     "output_type": "stream",
     "text": [
      "p = 0.0\n",
      "get_head_freq(p=p) = 0.0\n",
      "\n",
      "p = 0.1\n",
      "get_head_freq(p=p) = 0.1\n",
      "\n",
      "p = 0.2\n",
      "get_head_freq(p=p) = 0.2026\n",
      "\n",
      "p = 0.3\n",
      "get_head_freq(p=p) = 0.3055\n",
      "\n",
      "p = 0.4\n",
      "get_head_freq(p=p) = 0.4011\n",
      "\n",
      "p = 0.5\n",
      "get_head_freq(p=p) = 0.4949\n",
      "\n",
      "p = 0.6\n",
      "get_head_freq(p=p) = 0.5947\n",
      "\n",
      "p = 0.7\n",
      "get_head_freq(p=p) = 0.6935\n",
      "\n",
      "p = 0.8\n",
      "get_head_freq(p=p) = 0.8033\n",
      "\n",
      "p = 0.9\n",
      "get_head_freq(p=p) = 0.8985\n",
      "\n",
      "p = 1.0\n",
      "get_head_freq(p=p) = 1.0\n",
      "\n"
     ]
    }
   ],
   "source": [
    "p = 0\n",
    "while p < 1:\n",
    "    print(f\"{p = :.1f}\")\n",
    "    print(f\"{get_head_freq(p=p) = }\")\n",
    "    print()\n",
    "    p += 0.1"
   ]
  },
  {
   "cell_type": "markdown",
   "id": "95b021eb-435d-4269-9174-ec620f8aef63",
   "metadata": {},
   "source": [
    "Come back to Monte Carlo."
   ]
  },
  {
   "cell_type": "code",
   "execution_count": 6,
   "id": "3f12a662-24da-4bad-a4d5-86588850fe45",
   "metadata": {},
   "outputs": [],
   "source": [
    "from tqdm.auto import tqdm"
   ]
  },
  {
   "cell_type": "code",
   "execution_count": 7,
   "id": "061e2d85-3b63-4613-90db-e8fbc3436931",
   "metadata": {},
   "outputs": [],
   "source": [
    "def get_freq_more_heads_Bernoulli(\n",
    "    *,\n",
    "    n_tosses=1_000,\n",
    "    p=0.51,\n",
    "    n_experiments=100,\n",
    "):\n",
    "    \"\"\"\n",
    "    In each experiment, we toss a biased coin n_tosses of times.\n",
    "    \"\"\"\n",
    "    experiments = []\n",
    "    for _ in tqdm(range(n_experiments)):\n",
    "        Xs = [Bernoulli(p) for _ in range(n_tosses)]\n",
    "        S = sum(Xs)\n",
    "        more_heads_than_tails = S > n_tosses/2\n",
    "        experiments.append(more_heads_than_tails)\n",
    "    return sum(experiments)/n_experiments"
   ]
  },
  {
   "cell_type": "code",
   "execution_count": 8,
   "id": "d248d83a-ef6d-435d-a401-606b11d48ca8",
   "metadata": {},
   "outputs": [
    {
     "data": {
      "application/json": {
       "ascii": false,
       "bar_format": null,
       "colour": null,
       "elapsed": 0.0899972915649414,
       "initial": 0,
       "n": 0,
       "ncols": null,
       "nrows": 32,
       "postfix": null,
       "prefix": "",
       "rate": null,
       "total": 100,
       "unit": "it",
       "unit_divisor": 1000,
       "unit_scale": false
      },
      "application/vnd.jupyter.widget-view+json": {
       "model_id": "14b036e550d444ac945cf2c809ff58d0",
       "version_major": 2,
       "version_minor": 0
      },
      "text/plain": [
       "  0%|          | 0/100 [00:00<?, ?it/s]"
      ]
     },
     "metadata": {},
     "output_type": "display_data"
    },
    {
     "data": {
      "text/plain": [
       "0.69"
      ]
     },
     "execution_count": 8,
     "metadata": {},
     "output_type": "execute_result"
    }
   ],
   "source": [
    "get_freq_more_heads_Bernoulli()"
   ]
  },
  {
   "cell_type": "code",
   "execution_count": 9,
   "id": "fb2b5fdf-d3ec-4392-b0d0-60d2d87f7542",
   "metadata": {},
   "outputs": [
    {
     "data": {
      "application/json": {
       "ascii": false,
       "bar_format": null,
       "colour": null,
       "elapsed": 0.15942597389221191,
       "initial": 0,
       "n": 0,
       "ncols": null,
       "nrows": 32,
       "postfix": null,
       "prefix": "",
       "rate": null,
       "total": 1000,
       "unit": "it",
       "unit_divisor": 1000,
       "unit_scale": false
      },
      "application/vnd.jupyter.widget-view+json": {
       "model_id": "474c4f6cf85d424f8fdbd7307d041d63",
       "version_major": 2,
       "version_minor": 0
      },
      "text/plain": [
       "  0%|          | 0/1000 [00:00<?, ?it/s]"
      ]
     },
     "metadata": {},
     "output_type": "display_data"
    },
    {
     "data": {
      "text/plain": [
       "0.718"
      ]
     },
     "execution_count": 9,
     "metadata": {},
     "output_type": "execute_result"
    }
   ],
   "source": [
    "get_freq_more_heads_Bernoulli(n_experiments=1000)"
   ]
  },
  {
   "cell_type": "code",
   "execution_count": 10,
   "id": "642b713d-b2d9-4c93-95ae-2013b1773a66",
   "metadata": {},
   "outputs": [
    {
     "data": {
      "application/json": {
       "ascii": false,
       "bar_format": null,
       "colour": null,
       "elapsed": 0.1798393726348877,
       "initial": 0,
       "n": 0,
       "ncols": null,
       "nrows": 32,
       "postfix": null,
       "prefix": "",
       "rate": null,
       "total": 200,
       "unit": "it",
       "unit_divisor": 1000,
       "unit_scale": false
      },
      "application/vnd.jupyter.widget-view+json": {
       "model_id": "faff6d622ece47e4909aae4ad4e05ea6",
       "version_major": 2,
       "version_minor": 0
      },
      "text/plain": [
       "  0%|          | 0/200 [00:00<?, ?it/s]"
      ]
     },
     "metadata": {},
     "output_type": "display_data"
    },
    {
     "data": {
      "text/plain": [
       "0.985"
      ]
     },
     "execution_count": 10,
     "metadata": {},
     "output_type": "execute_result"
    }
   ],
   "source": [
    "get_freq_more_heads_Bernoulli(\n",
    "    n_tosses=10_000,\n",
    "    p=0.51,\n",
    "    n_experiments=200,\n",
    ")"
   ]
  },
  {
   "cell_type": "code",
   "execution_count": 11,
   "id": "e1d93dfa-c8d8-4efe-8e67-8ff60f11091e",
   "metadata": {},
   "outputs": [
    {
     "data": {
      "application/json": {
       "ascii": false,
       "bar_format": null,
       "colour": null,
       "elapsed": 0.1671309471130371,
       "initial": 0,
       "n": 0,
       "ncols": null,
       "nrows": 32,
       "postfix": null,
       "prefix": "",
       "rate": null,
       "total": 1000,
       "unit": "it",
       "unit_divisor": 1000,
       "unit_scale": false
      },
      "application/vnd.jupyter.widget-view+json": {
       "model_id": "58d5d7e1b9dc4d189c35d03fa4c96e5a",
       "version_major": 2,
       "version_minor": 0
      },
      "text/plain": [
       "  0%|          | 0/1000 [00:00<?, ?it/s]"
      ]
     },
     "metadata": {},
     "output_type": "display_data"
    },
    {
     "data": {
      "text/plain": [
       "0.975"
      ]
     },
     "execution_count": 11,
     "metadata": {},
     "output_type": "execute_result"
    }
   ],
   "source": [
    "get_freq_more_heads_Bernoulli(\n",
    "    n_tosses=10_000,\n",
    "    p=0.51,\n",
    "    n_experiments=1000,\n",
    ")"
   ]
  },
  {
   "cell_type": "code",
   "execution_count": null,
   "id": "8c597430-e058-464b-8262-b5f0acd90d69",
   "metadata": {},
   "outputs": [],
   "source": []
  },
  {
   "cell_type": "markdown",
   "id": "36f12f8c-50a3-4c5e-9021-659c4b506149",
   "metadata": {},
   "source": [
    "## Another Simulation (Binomial Distribution)"
   ]
  },
  {
   "cell_type": "markdown",
   "id": "c917067a-5cfa-41b1-9a9e-952db088d52c",
   "metadata": {},
   "source": [
    "Still in the style of Monte Carlo method, we could go a step\n",
    "more high level and choose to use binomial distribution instead\n",
    "of Bernoulli distribution. After all, a binomial distribution\n",
    "simply tries to capture the probability of obtaining $k$ Heads in\n",
    "$n$ coin tosses."
   ]
  },
  {
   "cell_type": "code",
   "execution_count": 12,
   "id": "2038fd00-7264-4e29-b18e-410058e0a1f2",
   "metadata": {},
   "outputs": [],
   "source": [
    "import numpy as np"
   ]
  },
  {
   "cell_type": "code",
   "execution_count": 13,
   "id": "5aacdd97-360f-4874-828e-bd9be6aa7134",
   "metadata": {},
   "outputs": [],
   "source": [
    "def get_freq_more_heads_binomial(\n",
    "    *,\n",
    "    n_tosses=1_000,\n",
    "    p=0.51,\n",
    "    n_experiments=100,\n",
    "):\n",
    "    Ss = np.random.binomial(n_tosses, p, size=n_experiments)\n",
    "    return np.sum(Ss > n_tosses/2) / n_experiments"
   ]
  },
  {
   "cell_type": "code",
   "execution_count": 14,
   "id": "7603526c-002b-4245-b2fc-2d8271f03f5c",
   "metadata": {},
   "outputs": [
    {
     "data": {
      "text/plain": [
       "0.75"
      ]
     },
     "execution_count": 14,
     "metadata": {},
     "output_type": "execute_result"
    }
   ],
   "source": [
    "get_freq_more_heads_binomial()"
   ]
  },
  {
   "cell_type": "code",
   "execution_count": 15,
   "id": "2fa14822-dca8-417e-b555-c6443b0b8459",
   "metadata": {},
   "outputs": [
    {
     "data": {
      "text/plain": [
       "0.98"
      ]
     },
     "execution_count": 15,
     "metadata": {},
     "output_type": "execute_result"
    }
   ],
   "source": [
    "get_freq_more_heads_binomial(n_tosses=10_000)"
   ]
  },
  {
   "cell_type": "code",
   "execution_count": null,
   "id": "787a9f83-47b7-40fc-a6ed-3e4c30d9d186",
   "metadata": {},
   "outputs": [],
   "source": []
  },
  {
   "cell_type": "markdown",
   "id": "1681625b-db0a-46c0-bfd8-8468d4c5e469",
   "metadata": {
    "tags": []
   },
   "source": [
    "## Q&A"
   ]
  },
  {
   "cell_type": "markdown",
   "id": "5aa222e0-9b4c-404b-8b5b-c0836efcb31c",
   "metadata": {},
   "source": [
    "**(?1)** Isn't `random.uniform(0, 1) < p` an instance of `bool`? Why `Bernoulli`'s `__new__` returns a `bool` instead of an `int`?"
   ]
  },
  {
   "cell_type": "markdown",
   "id": "792c3cce-7ad3-4fe9-9347-af0c022448f3",
   "metadata": {},
   "source": [
    "**(R1)** `bool` is a subclass of `int` in Python. Indeed,"
   ]
  },
  {
   "cell_type": "code",
   "execution_count": 16,
   "id": "2e306c6a-3391-477b-816a-b09d9cb068e5",
   "metadata": {},
   "outputs": [
    {
     "data": {
      "text/plain": [
       "(True, True)"
      ]
     },
     "execution_count": 16,
     "metadata": {},
     "output_type": "execute_result"
    }
   ],
   "source": [
    "isinstance(True, int), isinstance(False, int)"
   ]
  },
  {
   "cell_type": "code",
   "execution_count": 17,
   "id": "8125c4ee-3423-4665-a11a-9315a619ddfa",
   "metadata": {},
   "outputs": [
    {
     "data": {
      "text/plain": [
       "(True, True)"
      ]
     },
     "execution_count": 17,
     "metadata": {},
     "output_type": "execute_result"
    }
   ],
   "source": [
    "True == 1, False == 0"
   ]
  },
  {
   "cell_type": "code",
   "execution_count": 18,
   "id": "60deed8e-cd5c-4354-80e7-3478a300c014",
   "metadata": {},
   "outputs": [
    {
     "data": {
      "text/plain": [
       "False"
      ]
     },
     "execution_count": 18,
     "metadata": {},
     "output_type": "execute_result"
    }
   ],
   "source": [
    "True == 2"
   ]
  },
  {
   "cell_type": "code",
   "execution_count": 19,
   "id": "c7383272-f80a-4d57-941b-c42d3ee8d1e0",
   "metadata": {},
   "outputs": [
    {
     "data": {
      "text/plain": [
       "(True, True)"
      ]
     },
     "execution_count": 19,
     "metadata": {},
     "output_type": "execute_result"
    }
   ],
   "source": [
    "isinstance(True, bool), isinstance(False, bool)"
   ]
  },
  {
   "cell_type": "code",
   "execution_count": 20,
   "id": "639f1e10-9e36-4241-ac39-3928a04e19fa",
   "metadata": {},
   "outputs": [
    {
     "data": {
      "text/plain": [
       "True"
      ]
     },
     "execution_count": 20,
     "metadata": {},
     "output_type": "execute_result"
    }
   ],
   "source": [
    "issubclass(bool, int)"
   ]
  },
  {
   "cell_type": "markdown",
   "id": "34b5b83c-471f-433a-9981-02bc070912a9",
   "metadata": {},
   "source": [
    "**(?2)** Why couldn't we have defined our `Bernoulli` class as follows?\n",
    "```python\n",
    "class Bernoulli(int):\n",
    "    def __new__(cls, p=0.51):\n",
    "        return super().__new__(cls)\n",
    "\n",
    "    def __init__(self, p=0.51):\n",
    "        self = random.uniform(0,1) < p\n",
    "```"
   ]
  },
  {
   "cell_type": "markdown",
   "id": "53425fb5-b6cc-402b-8472-c48700a0b92b",
   "metadata": {},
   "source": [
    "**(R2)** Let's try to run it to better understand it."
   ]
  },
  {
   "cell_type": "code",
   "execution_count": 21,
   "id": "81d67183-8288-419f-aca8-da12dfd53b86",
   "metadata": {},
   "outputs": [],
   "source": [
    "class Bernoulli(int):\n",
    "    def __new__(cls, p=0.51):\n",
    "        return super().__new__(cls)\n",
    "\n",
    "    def __init__(self, p=0.51):\n",
    "        self = random.uniform(0,1) < p"
   ]
  },
  {
   "cell_type": "code",
   "execution_count": 22,
   "id": "f3a1916e-cec4-452a-997a-656e19048407",
   "metadata": {},
   "outputs": [
    {
     "name": "stdout",
     "output_type": "stream",
     "text": [
      "p = 0.0\n",
      "Bernoulli(p) = 0\n",
      "\n",
      "p = 0.1\n",
      "Bernoulli(p) = 0\n",
      "\n",
      "p = 0.2\n",
      "Bernoulli(p) = 0\n",
      "\n",
      "p = 0.3\n",
      "Bernoulli(p) = 0\n",
      "\n",
      "p = 0.4\n",
      "Bernoulli(p) = 0\n",
      "\n",
      "p = 0.5\n",
      "Bernoulli(p) = 0\n",
      "\n",
      "p = 0.6\n",
      "Bernoulli(p) = 0\n",
      "\n",
      "p = 0.7\n",
      "Bernoulli(p) = 0\n",
      "\n",
      "p = 0.8\n",
      "Bernoulli(p) = 0\n",
      "\n",
      "p = 0.9\n",
      "Bernoulli(p) = 0\n",
      "\n",
      "p = 1.0\n",
      "Bernoulli(p) = 0\n",
      "\n"
     ]
    }
   ],
   "source": [
    "for p in np.linspace(0, 1, num=11):\n",
    "    print(f\"{p = :.1f}\")\n",
    "    print(f\"{Bernoulli(p) = }\")\n",
    "    print()"
   ]
  },
  {
   "cell_type": "markdown",
   "id": "1dc21ca1-fde1-48b3-9af6-2b5e8824483d",
   "metadata": {},
   "source": [
    "As You can see, such a definition always gives `0`. This is because\n",
    "- `__new__` initializes the instance to `0`\n",
    "- Since Python integers are immutable, once initialized to `0` in `__new__`, `__init__` couldn't further modify it."
   ]
  },
  {
   "cell_type": "code",
   "execution_count": null,
   "id": "cd5baca1-c795-4363-bcc7-72369d9db562",
   "metadata": {},
   "outputs": [],
   "source": []
  }
 ],
 "metadata": {
  "kernelspec": {
   "display_name": "Python 3 (ipykernel)",
   "language": "python",
   "name": "python3"
  },
  "language_info": {
   "codemirror_mode": {
    "name": "ipython",
    "version": 3
   },
   "file_extension": ".py",
   "mimetype": "text/x-python",
   "name": "python",
   "nbconvert_exporter": "python",
   "pygments_lexer": "ipython3",
   "version": "3.10.0"
  }
 },
 "nbformat": 4,
 "nbformat_minor": 5
}
