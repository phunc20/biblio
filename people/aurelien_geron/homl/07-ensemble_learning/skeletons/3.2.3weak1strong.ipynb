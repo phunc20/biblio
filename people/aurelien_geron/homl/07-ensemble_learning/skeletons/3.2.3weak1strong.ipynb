{
 "cells": [
  {
   "cell_type": "markdown",
   "id": "42ea5a45-f14c-4d06-a968-a5d1fd6e03e4",
   "metadata": {},
   "source": [
    "## Introduce Scikit-Learn's Digit Dataset"
   ]
  },
  {
   "cell_type": "markdown",
   "id": "d65e60e1-f564-43bc-9788-3323504fcf59",
   "metadata": {},
   "source": [
    "## Explain Weak/Strong Learners"
   ]
  },
  {
   "cell_type": "markdown",
   "id": "3af4b423-3870-426e-85bb-6f9c955c3636",
   "metadata": {},
   "source": [
    "## Build Weak Learners"
   ]
  },
  {
   "cell_type": "markdown",
   "id": "651d08ef-4bd1-4ee0-b122-046f9486252f",
   "metadata": {},
   "source": [
    "Requirements\n",
    "- should accuracy only be slightly better than `1/2`\n",
    "    - or should accuracy only be slightly better than random guess, i.e. `1/10`?"
   ]
  },
  {
   "cell_type": "markdown",
   "id": "33366103-c71c-432a-b2db-e7cb3b27b83f",
   "metadata": {},
   "source": [
    "## Test Our `Weak` Class"
   ]
  },
  {
   "cell_type": "markdown",
   "id": "fd5fa06b-5fe7-4093-a64d-ce2c62239aa1",
   "metadata": {},
   "source": [
    "1. Do they all give different predictions?\n",
    "1. Are their accuracies all equal to `p`?"
   ]
  },
  {
   "cell_type": "markdown",
   "id": "6372bcf4-07e8-4730-848d-95830abe4830",
   "metadata": {},
   "source": [
    "## Reminder on `Counter`"
   ]
  },
  {
   "cell_type": "code",
   "execution_count": 6,
   "id": "d0368ef4-0ea0-42d7-8854-c1ef5607bbb3",
   "metadata": {},
   "outputs": [],
   "source": [
    "from collections import Counter"
   ]
  },
  {
   "cell_type": "code",
   "execution_count": 30,
   "id": "909a18ec-9f76-4a62-8215-92315505fc5d",
   "metadata": {},
   "outputs": [
    {
     "data": {
      "text/plain": [
       "array([8, 8, 3, 7, 7, 0, 4, 2, 5, 2, 2, 2, 1, 0, 8])"
      ]
     },
     "execution_count": 30,
     "metadata": {},
     "output_type": "execute_result"
    }
   ],
   "source": [
    "np.random.seed(100)\n",
    "digits = np.random.randint(low=0, high=10, size=15)\n",
    "digits"
   ]
  },
  {
   "cell_type": "code",
   "execution_count": 31,
   "id": "52b4e97a-0abb-412f-a54e-bda6854457c1",
   "metadata": {},
   "outputs": [
    {
     "name": "stdout",
     "output_type": "stream",
     "text": [
      "c.most_common(3) = [(2, 4), (8, 3), (7, 2)]\n",
      "c.most_common(1) = [(2, 4)]\n"
     ]
    }
   ],
   "source": [
    "c = Counter(digits)\n",
    "print(f\"{c.most_common(3) = }\")\n",
    "print(f\"{c.most_common(1) = }\")"
   ]
  },
  {
   "cell_type": "markdown",
   "id": "f4253c6d-35ff-427e-9745-f747d78ed92e",
   "metadata": {},
   "source": [
    "## Hard Voting"
   ]
  },
  {
   "cell_type": "code",
   "execution_count": null,
   "id": "fec9fdad-b190-4532-89ee-1171ec4cc5f0",
   "metadata": {},
   "outputs": [],
   "source": []
  }
 ],
 "metadata": {
  "kernelspec": {
   "display_name": "Python 3 (ipykernel)",
   "language": "python",
   "name": "python3"
  },
  "language_info": {
   "codemirror_mode": {
    "name": "ipython",
    "version": 3
   },
   "file_extension": ".py",
   "mimetype": "text/x-python",
   "name": "python",
   "nbconvert_exporter": "python",
   "pygments_lexer": "ipython3",
   "version": "3.10.0"
  }
 },
 "nbformat": 4,
 "nbformat_minor": 5
}
