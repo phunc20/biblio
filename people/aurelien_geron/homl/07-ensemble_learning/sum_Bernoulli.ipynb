{
 "cells": [
  {
   "cell_type": "code",
   "execution_count": 292,
   "id": "3fde0f44-ade6-4da5-8100-b0488d795263",
   "metadata": {},
   "outputs": [],
   "source": [
    "import math\n",
    "import traceback"
   ]
  },
  {
   "cell_type": "code",
   "execution_count": 293,
   "id": "1ad5407b-3cb6-43cf-a898-0f66dca8c2a8",
   "metadata": {
    "tags": []
   },
   "outputs": [
    {
     "data": {
      "text/plain": [
       "\u001b[0;31mSignature:\u001b[0m \u001b[0mmath\u001b[0m\u001b[0;34m.\u001b[0m\u001b[0mcomb\u001b[0m\u001b[0;34m(\u001b[0m\u001b[0mn\u001b[0m\u001b[0;34m,\u001b[0m \u001b[0mk\u001b[0m\u001b[0;34m,\u001b[0m \u001b[0;34m/\u001b[0m\u001b[0;34m)\u001b[0m\u001b[0;34m\u001b[0m\u001b[0;34m\u001b[0m\u001b[0m\n",
       "\u001b[0;31mDocstring:\u001b[0m\n",
       "Number of ways to choose k items from n items without repetition and without order.\n",
       "\n",
       "Evaluates to n! / (k! * (n - k)!) when k <= n and evaluates\n",
       "to zero when k > n.\n",
       "\n",
       "Also called the binomial coefficient because it is equivalent\n",
       "to the coefficient of k-th term in polynomial expansion of the\n",
       "expression (1 + x)**n.\n",
       "\n",
       "Raises TypeError if either of the arguments are not integers.\n",
       "Raises ValueError if either of the arguments are negative.\n",
       "\u001b[0;31mType:\u001b[0m      builtin_function_or_method\n"
      ]
     },
     "metadata": {},
     "output_type": "display_data"
    }
   ],
   "source": [
    "math.comb?"
   ]
  },
  {
   "cell_type": "code",
   "execution_count": 294,
   "id": "6010e444-dff0-4fc9-a7a5-b17dd5bf385c",
   "metadata": {},
   "outputs": [],
   "source": [
    "def part_binomial(n, p=0.51, start=None, end=None):\n",
    "    if end is None:\n",
    "        end = n\n",
    "    if start is None:\n",
    "        start = n//2 + 1\n",
    "    try:\n",
    "        return sum(\n",
    "            math.comb(n, k) * (p**k) * ((1-p)**(n-k)) for k in range(start, end+1)\n",
    "        )\n",
    "    except Exception:\n",
    "        traceback.print_exc()"
   ]
  },
  {
   "cell_type": "code",
   "execution_count": 296,
   "id": "71d90810-8f37-4519-8dce-d8e0315eb609",
   "metadata": {},
   "outputs": [
    {
     "data": {
      "text/plain": [
       "0.7260985557305037"
      ]
     },
     "execution_count": 296,
     "metadata": {},
     "output_type": "execute_result"
    }
   ],
   "source": [
    "part_binomial(1_000)"
   ]
  },
  {
   "cell_type": "code",
   "execution_count": 297,
   "id": "3d5e1675-1657-47e8-bd78-4b29a6d2b834",
   "metadata": {},
   "outputs": [
    {
     "name": "stderr",
     "output_type": "stream",
     "text": [
      "Traceback (most recent call last):\n",
      "  File \"/tmp/ipykernel_2321/47062240.py\", line 7, in part_binomial\n",
      "    return sum(\n",
      "  File \"/tmp/ipykernel_2321/47062240.py\", line 8, in <genexpr>\n",
      "    math.comb(n, k) * (p**k) * ((1-p)**(n-k)) for k in range(start, end+1)\n",
      "OverflowError: int too large to convert to float\n"
     ]
    }
   ],
   "source": [
    "part_binomial(10_000)"
   ]
  },
  {
   "cell_type": "code",
   "execution_count": 298,
   "id": "dd709495-45ea-49d0-bc20-ecf262d759d5",
   "metadata": {},
   "outputs": [
    {
     "name": "stderr",
     "output_type": "stream",
     "text": [
      "Traceback (most recent call last):\n",
      "  File \"/tmp/ipykernel_2321/1688019946.py\", line 4, in <module>\n",
      "    float(math.comb(n, k))\n",
      "OverflowError: int too large to convert to float\n"
     ]
    }
   ],
   "source": [
    "n = 10_000\n",
    "k = n//2\n",
    "try:\n",
    "    float(math.comb(n, k))\n",
    "except Exception:\n",
    "    traceback.print_exc()"
   ]
  },
  {
   "cell_type": "code",
   "execution_count": 302,
   "id": "e71bb3e7-c4fe-48fb-acc0-6cc4c8834037",
   "metadata": {},
   "outputs": [],
   "source": [
    "import scipy\n",
    "\n",
    "def part_binomial(n, p=0.51, start=None, end=None):\n",
    "    if end is None:\n",
    "        end = n\n",
    "    if start is None:\n",
    "        start = n//2 + 1\n",
    "    try:\n",
    "        return sum(\n",
    "            scipy.special.comb(n, k) * (p**k) * ((1-p)**(n-k)) for k in range(start, end+1)\n",
    "        )\n",
    "    except Exception:\n",
    "        traceback.print_exc()"
   ]
  },
  {
   "cell_type": "code",
   "execution_count": 303,
   "id": "ea4dd81e-af6e-413c-8038-349d8808f633",
   "metadata": {},
   "outputs": [
    {
     "name": "stderr",
     "output_type": "stream",
     "text": [
      "/tmp/ipykernel_2321/484584378.py:10: RuntimeWarning: invalid value encountered in double_scalars\n",
      "  scipy.special.comb(n, k) * (p**k) * ((1-p)**(n-k)) for k in range(start, end+1)\n"
     ]
    },
    {
     "data": {
      "text/plain": [
       "nan"
      ]
     },
     "execution_count": 303,
     "metadata": {},
     "output_type": "execute_result"
    }
   ],
   "source": [
    "part_binomial(10_000)"
   ]
  },
  {
   "cell_type": "code",
   "execution_count": 288,
   "id": "df63ebe0-6056-4c92-9eba-291b127634ab",
   "metadata": {},
   "outputs": [],
   "source": [
    "import numpy as np"
   ]
  },
  {
   "cell_type": "code",
   "execution_count": 304,
   "id": "4a68edba-8401-4037-9444-9c6fc13ddbae",
   "metadata": {},
   "outputs": [
    {
     "data": {
      "text/plain": [
       "\u001b[0;31mSignature:\u001b[0m\n",
       "\u001b[0mnp\u001b[0m\u001b[0;34m.\u001b[0m\u001b[0mprod\u001b[0m\u001b[0;34m(\u001b[0m\u001b[0;34m\u001b[0m\n",
       "\u001b[0;34m\u001b[0m    \u001b[0ma\u001b[0m\u001b[0;34m,\u001b[0m\u001b[0;34m\u001b[0m\n",
       "\u001b[0;34m\u001b[0m    \u001b[0maxis\u001b[0m\u001b[0;34m=\u001b[0m\u001b[0;32mNone\u001b[0m\u001b[0;34m,\u001b[0m\u001b[0;34m\u001b[0m\n",
       "\u001b[0;34m\u001b[0m    \u001b[0mdtype\u001b[0m\u001b[0;34m=\u001b[0m\u001b[0;32mNone\u001b[0m\u001b[0;34m,\u001b[0m\u001b[0;34m\u001b[0m\n",
       "\u001b[0;34m\u001b[0m    \u001b[0mout\u001b[0m\u001b[0;34m=\u001b[0m\u001b[0;32mNone\u001b[0m\u001b[0;34m,\u001b[0m\u001b[0;34m\u001b[0m\n",
       "\u001b[0;34m\u001b[0m    \u001b[0mkeepdims\u001b[0m\u001b[0;34m=\u001b[0m\u001b[0;34m<\u001b[0m\u001b[0mno\u001b[0m \u001b[0mvalue\u001b[0m\u001b[0;34m>\u001b[0m\u001b[0;34m,\u001b[0m\u001b[0;34m\u001b[0m\n",
       "\u001b[0;34m\u001b[0m    \u001b[0minitial\u001b[0m\u001b[0;34m=\u001b[0m\u001b[0;34m<\u001b[0m\u001b[0mno\u001b[0m \u001b[0mvalue\u001b[0m\u001b[0;34m>\u001b[0m\u001b[0;34m,\u001b[0m\u001b[0;34m\u001b[0m\n",
       "\u001b[0;34m\u001b[0m    \u001b[0mwhere\u001b[0m\u001b[0;34m=\u001b[0m\u001b[0;34m<\u001b[0m\u001b[0mno\u001b[0m \u001b[0mvalue\u001b[0m\u001b[0;34m>\u001b[0m\u001b[0;34m,\u001b[0m\u001b[0;34m\u001b[0m\n",
       "\u001b[0;34m\u001b[0m\u001b[0;34m)\u001b[0m\u001b[0;34m\u001b[0m\u001b[0;34m\u001b[0m\u001b[0m\n",
       "\u001b[0;31mDocstring:\u001b[0m\n",
       "Return the product of array elements over a given axis.\n",
       "\n",
       "Parameters\n",
       "----------\n",
       "a : array_like\n",
       "    Input data.\n",
       "axis : None or int or tuple of ints, optional\n",
       "    Axis or axes along which a product is performed.  The default,\n",
       "    axis=None, will calculate the product of all the elements in the\n",
       "    input array. If axis is negative it counts from the last to the\n",
       "    first axis.\n",
       "\n",
       "    .. versionadded:: 1.7.0\n",
       "\n",
       "    If axis is a tuple of ints, a product is performed on all of the\n",
       "    axes specified in the tuple instead of a single axis or all the\n",
       "    axes as before.\n",
       "dtype : dtype, optional\n",
       "    The type of the returned array, as well as of the accumulator in\n",
       "    which the elements are multiplied.  The dtype of `a` is used by\n",
       "    default unless `a` has an integer dtype of less precision than the\n",
       "    default platform integer.  In that case, if `a` is signed then the\n",
       "    platform integer is used while if `a` is unsigned then an unsigned\n",
       "    integer of the same precision as the platform integer is used.\n",
       "out : ndarray, optional\n",
       "    Alternative output array in which to place the result. It must have\n",
       "    the same shape as the expected output, but the type of the output\n",
       "    values will be cast if necessary.\n",
       "keepdims : bool, optional\n",
       "    If this is set to True, the axes which are reduced are left in the\n",
       "    result as dimensions with size one. With this option, the result\n",
       "    will broadcast correctly against the input array.\n",
       "\n",
       "    If the default value is passed, then `keepdims` will not be\n",
       "    passed through to the `prod` method of sub-classes of\n",
       "    `ndarray`, however any non-default value will be.  If the\n",
       "    sub-class' method does not implement `keepdims` any\n",
       "    exceptions will be raised.\n",
       "initial : scalar, optional\n",
       "    The starting value for this product. See `~numpy.ufunc.reduce` for details.\n",
       "\n",
       "    .. versionadded:: 1.15.0\n",
       "\n",
       "where : array_like of bool, optional\n",
       "    Elements to include in the product. See `~numpy.ufunc.reduce` for details.\n",
       "\n",
       "    .. versionadded:: 1.17.0\n",
       "\n",
       "Returns\n",
       "-------\n",
       "product_along_axis : ndarray, see `dtype` parameter above.\n",
       "    An array shaped as `a` but with the specified axis removed.\n",
       "    Returns a reference to `out` if specified.\n",
       "\n",
       "See Also\n",
       "--------\n",
       "ndarray.prod : equivalent method\n",
       ":ref:`ufuncs-output-type`\n",
       "\n",
       "Notes\n",
       "-----\n",
       "Arithmetic is modular when using integer types, and no error is\n",
       "raised on overflow.  That means that, on a 32-bit platform:\n",
       "\n",
       ">>> x = np.array([536870910, 536870910, 536870910, 536870910])\n",
       ">>> np.prod(x)\n",
       "16 # may vary\n",
       "\n",
       "The product of an empty array is the neutral element 1:\n",
       "\n",
       ">>> np.prod([])\n",
       "1.0\n",
       "\n",
       "Examples\n",
       "--------\n",
       "By default, calculate the product of all elements:\n",
       "\n",
       ">>> np.prod([1.,2.])\n",
       "2.0\n",
       "\n",
       "Even when the input array is two-dimensional:\n",
       "\n",
       ">>> np.prod([[1.,2.],[3.,4.]])\n",
       "24.0\n",
       "\n",
       "But we can also specify the axis over which to multiply:\n",
       "\n",
       ">>> np.prod([[1.,2.],[3.,4.]], axis=1)\n",
       "array([  2.,  12.])\n",
       "\n",
       "Or select specific elements to include:\n",
       "\n",
       ">>> np.prod([1., np.nan, 3.], where=[True, False, True])\n",
       "3.0\n",
       "\n",
       "If the type of `x` is unsigned, then the output type is\n",
       "the unsigned platform integer:\n",
       "\n",
       ">>> x = np.array([1, 2, 3], dtype=np.uint8)\n",
       ">>> np.prod(x).dtype == np.uint\n",
       "True\n",
       "\n",
       "If `x` is of a signed integer type, then the output type\n",
       "is the default platform integer:\n",
       "\n",
       ">>> x = np.array([1, 2, 3], dtype=np.int8)\n",
       ">>> np.prod(x).dtype == int\n",
       "True\n",
       "\n",
       "You can also start the product with a value other than one:\n",
       "\n",
       ">>> np.prod([1, 2], initial=5)\n",
       "10\n",
       "\u001b[0;31mFile:\u001b[0m      ~/.config/miniconda3/envs/py3.10/lib/python3.10/site-packages/numpy/core/fromnumeric.py\n",
       "\u001b[0;31mType:\u001b[0m      function\n"
      ]
     },
     "metadata": {},
     "output_type": "display_data"
    }
   ],
   "source": [
    "np.prod?"
   ]
  },
  {
   "cell_type": "code",
   "execution_count": 331,
   "id": "46014863-cf00-4d09-9d51-e2dab0b02d01",
   "metadata": {},
   "outputs": [],
   "source": [
    "def kth_term(x, y, n, k):\n",
    "    #p = k if n-k > k else n-k\n",
    "    #q = n - p\n",
    "    p, q = max(k, n-k), min(k, n-k)\n",
    "    print(f\"{p = }\")\n",
    "    print(f\"{q = }\")\n",
    "    a, b = max(x, y), min(x, y)\n",
    "    print(f\"{a = }\")\n",
    "    print(f\"{b = }\")\n",
    "    #A = a**p\n",
    "    #print(f\"{A = }\")\n",
    "    #B = np.prod(np.arange(n-q+1, n+1) / np.arange(1, q+1) * b)\n",
    "    B = np.arange(n-q+1, n+1) / np.arange(1, q+1)\n",
    "    print(f\"{B = }\")\n",
    "    res = np.prod(np.arange(n-q+1, n+1) / np.arange(1, q+1), initial=a**p * b**q)\n",
    "    #return A*B\n",
    "    return res"
   ]
  },
  {
   "cell_type": "code",
   "execution_count": 332,
   "id": "7d40293e-5a52-42a3-b2b2-fcb60fb0c2ba",
   "metadata": {},
   "outputs": [
    {
     "name": "stdout",
     "output_type": "stream",
     "text": [
      "p = 5000\n",
      "q = 5000\n",
      "a = 0.51\n",
      "b = 0.49\n",
      "B = array([5.00100000e+03, 2.50100000e+03, 1.66766667e+03, ...,\n",
      "       2.00040016e+00, 2.00020004e+00, 2.00000000e+00])\n"
     ]
    },
    {
     "data": {
      "text/plain": [
       "0.0"
      ]
     },
     "execution_count": 332,
     "metadata": {},
     "output_type": "execute_result"
    }
   ],
   "source": [
    "kth_term(0.51, 1-0.51, 10_000, 5_000)"
   ]
  },
  {
   "cell_type": "code",
   "execution_count": 334,
   "id": "a7c0f8c3-3fbf-4b72-88aa-fa2e1f6bef99",
   "metadata": {},
   "outputs": [],
   "source": [
    "def kth_term(x, y, n, k):\n",
    "    A = math.log(math.comb(n,k))\n",
    "    B = math.log(x) * k\n",
    "    C = math.log(y) * (n-k)\n",
    "    return math.exp(A+B+C)"
   ]
  },
  {
   "cell_type": "code",
   "execution_count": 341,
   "id": "3679f86e-172c-4fb3-8c4b-a4ed3ae310ce",
   "metadata": {},
   "outputs": [],
   "source": [
    "from tqdm.auto import tqdm"
   ]
  },
  {
   "cell_type": "code",
   "execution_count": 344,
   "id": "aec169be-5b02-4eb8-a8f8-3dfcdcdd47d9",
   "metadata": {},
   "outputs": [
    {
     "data": {
      "application/json": {
       "ascii": false,
       "bar_format": null,
       "colour": null,
       "elapsed": 0.18542170524597168,
       "initial": 0,
       "n": 0,
       "ncols": null,
       "nrows": 32,
       "postfix": null,
       "prefix": "",
       "rate": null,
       "total": 999999,
       "unit": "it",
       "unit_divisor": 1000,
       "unit_scale": false
      },
      "application/vnd.jupyter.widget-view+json": {
       "model_id": "b4d9705112be4e1c922989500a5d39d1",
       "version_major": 2,
       "version_minor": 0
      },
      "text/plain": [
       "  0%|          | 0/999999 [00:00<?, ?it/s]"
      ]
     },
     "metadata": {},
     "output_type": "display_data"
    },
    {
     "data": {
      "text/plain": [
       "<tqdm.auto.tqdm at 0x7fa6580130a0>"
      ]
     },
     "execution_count": 344,
     "metadata": {},
     "output_type": "execute_result"
    }
   ],
   "source": [
    "tqdm(range(999999))"
   ]
  },
  {
   "cell_type": "code",
   "execution_count": 345,
   "id": "ab772cd5-da1b-46eb-bafb-928c9a778e97",
   "metadata": {},
   "outputs": [],
   "source": [
    "def sum_terms(n, x, y, start=None, end=None):\n",
    "    if end is None:\n",
    "        end = n+1\n",
    "    if start is None:\n",
    "        start = n//2 + 1\n",
    "    try:\n",
    "        return sum(\n",
    "            kth_term(x, y, n, k) for k in tqdm(range(start, end))\n",
    "        )\n",
    "    except Exception:\n",
    "        traceback.print_exc()"
   ]
  },
  {
   "cell_type": "code",
   "execution_count": 346,
   "id": "173a5fb7-9c04-46b5-8636-d8a8173dccbf",
   "metadata": {},
   "outputs": [
    {
     "data": {
      "application/json": {
       "ascii": false,
       "bar_format": null,
       "colour": null,
       "elapsed": 0.1320817470550537,
       "initial": 0,
       "n": 0,
       "ncols": null,
       "nrows": 32,
       "postfix": null,
       "prefix": "",
       "rate": null,
       "total": 500,
       "unit": "it",
       "unit_divisor": 1000,
       "unit_scale": false
      },
      "application/vnd.jupyter.widget-view+json": {
       "model_id": "270f6a3febbc49b28e7c5bed92e6fe35",
       "version_major": 2,
       "version_minor": 0
      },
      "text/plain": [
       "  0%|          | 0/500 [00:00<?, ?it/s]"
      ]
     },
     "metadata": {},
     "output_type": "display_data"
    },
    {
     "data": {
      "text/plain": [
       "0.7260985557304759"
      ]
     },
     "execution_count": 346,
     "metadata": {},
     "output_type": "execute_result"
    }
   ],
   "source": [
    "p = 0.51\n",
    "n = 1_000\n",
    "sum_terms(n, p, 1-p)"
   ]
  },
  {
   "cell_type": "code",
   "execution_count": 347,
   "id": "adf6442f-f274-4c67-8f5a-6a0839cd7867",
   "metadata": {},
   "outputs": [
    {
     "data": {
      "application/json": {
       "ascii": false,
       "bar_format": null,
       "colour": null,
       "elapsed": 0.11847376823425293,
       "initial": 0,
       "n": 0,
       "ncols": null,
       "nrows": 32,
       "postfix": null,
       "prefix": "",
       "rate": null,
       "total": 5000,
       "unit": "it",
       "unit_divisor": 1000,
       "unit_scale": false
      },
      "application/vnd.jupyter.widget-view+json": {
       "model_id": "ade71bec2d564cee844815596ace4b77",
       "version_major": 2,
       "version_minor": 0
      },
      "text/plain": [
       "  0%|          | 0/5000 [00:00<?, ?it/s]"
      ]
     },
     "metadata": {},
     "output_type": "display_data"
    },
    {
     "data": {
      "text/plain": [
       "0.9767182874802731"
      ]
     },
     "execution_count": 347,
     "metadata": {},
     "output_type": "execute_result"
    }
   ],
   "source": [
    "p = 0.51\n",
    "n = 10_000\n",
    "sum_terms(n, p, 1-p)"
   ]
  },
  {
   "cell_type": "code",
   "execution_count": null,
   "id": "255ebf67-7c21-4c4c-8e51-61deec98da12",
   "metadata": {},
   "outputs": [],
   "source": []
  },
  {
   "cell_type": "code",
   "execution_count": null,
   "id": "0d67e6ec-151e-42a5-a10f-0a070b637dbf",
   "metadata": {},
   "outputs": [],
   "source": []
  },
  {
   "cell_type": "code",
   "execution_count": null,
   "id": "2e306c6a-3391-477b-816a-b09d9cb068e5",
   "metadata": {},
   "outputs": [],
   "source": []
  },
  {
   "cell_type": "code",
   "execution_count": null,
   "id": "4d165864-e9e8-4dc3-a738-9495ff7b557d",
   "metadata": {},
   "outputs": [],
   "source": []
  },
  {
   "cell_type": "code",
   "execution_count": 1,
   "id": "75bb188e-cea6-4919-ad6f-33645891cd8d",
   "metadata": {},
   "outputs": [],
   "source": [
    "import numpy as np"
   ]
  },
  {
   "cell_type": "code",
   "execution_count": 3,
   "id": "4ca2aec9-ca21-48b1-ba23-a8ff8acde886",
   "metadata": {
    "collapsed": true,
    "jupyter": {
     "outputs_hidden": true
    },
    "tags": []
   },
   "outputs": [
    {
     "data": {
      "text/plain": [
       "\u001b[0;31mDocstring:\u001b[0m\n",
       "uniform(low=0.0, high=1.0, size=None)\n",
       "\n",
       "Draw samples from a uniform distribution.\n",
       "\n",
       "Samples are uniformly distributed over the half-open interval\n",
       "``[low, high)`` (includes low, but excludes high).  In other words,\n",
       "any value within the given interval is equally likely to be drawn\n",
       "by `uniform`.\n",
       "\n",
       ".. note::\n",
       "    New code should use the ``uniform`` method of a ``default_rng()``\n",
       "    instance instead; please see the :ref:`random-quick-start`.\n",
       "\n",
       "Parameters\n",
       "----------\n",
       "low : float or array_like of floats, optional\n",
       "    Lower boundary of the output interval.  All values generated will be\n",
       "    greater than or equal to low.  The default value is 0.\n",
       "high : float or array_like of floats\n",
       "    Upper boundary of the output interval.  All values generated will be\n",
       "    less than or equal to high.  The high limit may be included in the \n",
       "    returned array of floats due to floating-point rounding in the \n",
       "    equation ``low + (high-low) * random_sample()``.  The default value \n",
       "    is 1.0.\n",
       "size : int or tuple of ints, optional\n",
       "    Output shape.  If the given shape is, e.g., ``(m, n, k)``, then\n",
       "    ``m * n * k`` samples are drawn.  If size is ``None`` (default),\n",
       "    a single value is returned if ``low`` and ``high`` are both scalars.\n",
       "    Otherwise, ``np.broadcast(low, high).size`` samples are drawn.\n",
       "\n",
       "Returns\n",
       "-------\n",
       "out : ndarray or scalar\n",
       "    Drawn samples from the parameterized uniform distribution.\n",
       "\n",
       "See Also\n",
       "--------\n",
       "randint : Discrete uniform distribution, yielding integers.\n",
       "random_integers : Discrete uniform distribution over the closed\n",
       "                  interval ``[low, high]``.\n",
       "random_sample : Floats uniformly distributed over ``[0, 1)``.\n",
       "random : Alias for `random_sample`.\n",
       "rand : Convenience function that accepts dimensions as input, e.g.,\n",
       "       ``rand(2,2)`` would generate a 2-by-2 array of floats,\n",
       "       uniformly distributed over ``[0, 1)``.\n",
       "random.Generator.uniform: which should be used for new code.\n",
       "\n",
       "Notes\n",
       "-----\n",
       "The probability density function of the uniform distribution is\n",
       "\n",
       ".. math:: p(x) = \\frac{1}{b - a}\n",
       "\n",
       "anywhere within the interval ``[a, b)``, and zero elsewhere.\n",
       "\n",
       "When ``high`` == ``low``, values of ``low`` will be returned.\n",
       "If ``high`` < ``low``, the results are officially undefined\n",
       "and may eventually raise an error, i.e. do not rely on this\n",
       "function to behave when passed arguments satisfying that\n",
       "inequality condition. The ``high`` limit may be included in the\n",
       "returned array of floats due to floating-point rounding in the\n",
       "equation ``low + (high-low) * random_sample()``. For example:\n",
       "\n",
       ">>> x = np.float32(5*0.99999999)\n",
       ">>> x\n",
       "5.0\n",
       "\n",
       "\n",
       "Examples\n",
       "--------\n",
       "Draw samples from the distribution:\n",
       "\n",
       ">>> s = np.random.uniform(-1,0,1000)\n",
       "\n",
       "All values are within the given interval:\n",
       "\n",
       ">>> np.all(s >= -1)\n",
       "True\n",
       ">>> np.all(s < 0)\n",
       "True\n",
       "\n",
       "Display the histogram of the samples, along with the\n",
       "probability density function:\n",
       "\n",
       ">>> import matplotlib.pyplot as plt\n",
       ">>> count, bins, ignored = plt.hist(s, 15, density=True)\n",
       ">>> plt.plot(bins, np.ones_like(bins), linewidth=2, color='r')\n",
       ">>> plt.show()\n",
       "\u001b[0;31mType:\u001b[0m      builtin_function_or_method\n"
      ]
     },
     "metadata": {},
     "output_type": "display_data"
    }
   ],
   "source": [
    "np.random.uniform?"
   ]
  },
  {
   "cell_type": "code",
   "execution_count": 2,
   "id": "5ec26a1a-1a8a-480f-997c-5827194b3ce6",
   "metadata": {
    "tags": []
   },
   "outputs": [
    {
     "data": {
      "text/plain": [
       "\u001b[0;31mDocstring:\u001b[0m\n",
       "binomial(n, p, size=None)\n",
       "\n",
       "Draw samples from a binomial distribution.\n",
       "\n",
       "Samples are drawn from a binomial distribution with specified\n",
       "parameters, n trials and p probability of success where\n",
       "n an integer >= 0 and p is in the interval [0,1]. (n may be\n",
       "input as a float, but it is truncated to an integer in use)\n",
       "\n",
       ".. note::\n",
       "    New code should use the ``binomial`` method of a ``default_rng()``\n",
       "    instance instead; please see the :ref:`random-quick-start`.\n",
       "\n",
       "Parameters\n",
       "----------\n",
       "n : int or array_like of ints\n",
       "    Parameter of the distribution, >= 0. Floats are also accepted,\n",
       "    but they will be truncated to integers.\n",
       "p : float or array_like of floats\n",
       "    Parameter of the distribution, >= 0 and <=1.\n",
       "size : int or tuple of ints, optional\n",
       "    Output shape.  If the given shape is, e.g., ``(m, n, k)``, then\n",
       "    ``m * n * k`` samples are drawn.  If size is ``None`` (default),\n",
       "    a single value is returned if ``n`` and ``p`` are both scalars.\n",
       "    Otherwise, ``np.broadcast(n, p).size`` samples are drawn.\n",
       "\n",
       "Returns\n",
       "-------\n",
       "out : ndarray or scalar\n",
       "    Drawn samples from the parameterized binomial distribution, where\n",
       "    each sample is equal to the number of successes over the n trials.\n",
       "\n",
       "See Also\n",
       "--------\n",
       "scipy.stats.binom : probability density function, distribution or\n",
       "    cumulative density function, etc.\n",
       "random.Generator.binomial: which should be used for new code.\n",
       "\n",
       "Notes\n",
       "-----\n",
       "The probability density for the binomial distribution is\n",
       "\n",
       ".. math:: P(N) = \\binom{n}{N}p^N(1-p)^{n-N},\n",
       "\n",
       "where :math:`n` is the number of trials, :math:`p` is the probability\n",
       "of success, and :math:`N` is the number of successes.\n",
       "\n",
       "When estimating the standard error of a proportion in a population by\n",
       "using a random sample, the normal distribution works well unless the\n",
       "product p*n <=5, where p = population proportion estimate, and n =\n",
       "number of samples, in which case the binomial distribution is used\n",
       "instead. For example, a sample of 15 people shows 4 who are left\n",
       "handed, and 11 who are right handed. Then p = 4/15 = 27%. 0.27*15 = 4,\n",
       "so the binomial distribution should be used in this case.\n",
       "\n",
       "References\n",
       "----------\n",
       ".. [1] Dalgaard, Peter, \"Introductory Statistics with R\",\n",
       "       Springer-Verlag, 2002.\n",
       ".. [2] Glantz, Stanton A. \"Primer of Biostatistics.\", McGraw-Hill,\n",
       "       Fifth Edition, 2002.\n",
       ".. [3] Lentner, Marvin, \"Elementary Applied Statistics\", Bogden\n",
       "       and Quigley, 1972.\n",
       ".. [4] Weisstein, Eric W. \"Binomial Distribution.\" From MathWorld--A\n",
       "       Wolfram Web Resource.\n",
       "       http://mathworld.wolfram.com/BinomialDistribution.html\n",
       ".. [5] Wikipedia, \"Binomial distribution\",\n",
       "       https://en.wikipedia.org/wiki/Binomial_distribution\n",
       "\n",
       "Examples\n",
       "--------\n",
       "Draw samples from the distribution:\n",
       "\n",
       ">>> n, p = 10, .5  # number of trials, probability of each trial\n",
       ">>> s = np.random.binomial(n, p, 1000)\n",
       "# result of flipping a coin 10 times, tested 1000 times.\n",
       "\n",
       "A real world example. A company drills 9 wild-cat oil exploration\n",
       "wells, each with an estimated probability of success of 0.1. All nine\n",
       "wells fail. What is the probability of that happening?\n",
       "\n",
       "Let's do 20,000 trials of the model, and count the number that\n",
       "generate zero positive results.\n",
       "\n",
       ">>> sum(np.random.binomial(9, 0.1, 20000) == 0)/20000.\n",
       "# answer = 0.38885, or 38%.\n",
       "\u001b[0;31mType:\u001b[0m      builtin_function_or_method\n"
      ]
     },
     "metadata": {},
     "output_type": "display_data"
    }
   ],
   "source": [
    "np.random.binomial?"
   ]
  },
  {
   "cell_type": "code",
   "execution_count": 142,
   "id": "510f45e9-6110-40c0-80b0-68d8d2f6f7df",
   "metadata": {},
   "outputs": [],
   "source": [
    "class Bernoulli(int):\n",
    "    def __new__(self, p=0.51):\n",
    "        return int(np.random.uniform() < p)"
   ]
  },
  {
   "cell_type": "code",
   "execution_count": 237,
   "id": "5620f31d-2dbb-48c0-8e3e-6e19e5de4e76",
   "metadata": {},
   "outputs": [],
   "source": [
    "def test_Bernoulli(n=10_000):\n",
    "    Xs = [Bernoulli() for _ in range(n)]\n",
    "    return sum(Xs)/len(Xs)"
   ]
  },
  {
   "cell_type": "code",
   "execution_count": 239,
   "id": "03d14d21-5259-4e22-b68e-1eb987534b05",
   "metadata": {},
   "outputs": [
    {
     "data": {
      "text/plain": [
       "0.51127"
      ]
     },
     "execution_count": 239,
     "metadata": {},
     "output_type": "execute_result"
    }
   ],
   "source": [
    "test_Bernoulli(n=100_000)"
   ]
  },
  {
   "cell_type": "code",
   "execution_count": 141,
   "id": "8416815d-52ee-42ab-b366-2911acc98c3c",
   "metadata": {},
   "outputs": [
    {
     "data": {
      "text/plain": [
       "1"
      ]
     },
     "execution_count": 141,
     "metadata": {},
     "output_type": "execute_result"
    }
   ],
   "source": [
    "int(np.random.uniform() < 0.51)"
   ]
  },
  {
   "cell_type": "code",
   "execution_count": null,
   "id": "fb2b5fdf-d3ec-4392-b0d0-60d2d87f7542",
   "metadata": {},
   "outputs": [],
   "source": []
  }
 ],
 "metadata": {
  "kernelspec": {
   "display_name": "Python 3 (ipykernel)",
   "language": "python",
   "name": "python3"
  },
  "language_info": {
   "codemirror_mode": {
    "name": "ipython",
    "version": 3
   },
   "file_extension": ".py",
   "mimetype": "text/x-python",
   "name": "python",
   "nbconvert_exporter": "python",
   "pygments_lexer": "ipython3",
   "version": "3.10.0"
  }
 },
 "nbformat": 4,
 "nbformat_minor": 5
}
