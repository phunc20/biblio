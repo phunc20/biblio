{
 "cells": [
  {
   "cell_type": "markdown",
   "id": "9b1b974d-ef29-498b-8172-c460ec31455d",
   "metadata": {},
   "source": [
    "$$\n",
    "\\newcommand{\\nchoosek}[2]{\\begin{pmatrix}#1\\\\#2\\end{pmatrix}}\n",
    "\\begin{aligned}\n",
    "1 &= \\left(p + (1-p)\\right)^{n} \\\\\n",
    "  &= \\nchoosek{n}{0} p^{0}(1-p)^{n}\n",
    "   + \\nchoosek{n}{1} p^{1}(1-p)^{n-1}\n",
    "   + \\nchoosek{n}{2} p^{2}(1-p)^{n-2}\n",
    "   + \\cdots\n",
    "   + \\nchoosek{n}{n} p^{n}(1-p)^{0} \\\\\n",
    "  &= \\sum_{k=0}^{n} \\nchoosek{n}{k} p^{k}(1-p)^{n-k}\n",
    "\\end{aligned}\n",
    "$$"
   ]
  },
  {
   "cell_type": "code",
   "execution_count": 1,
   "id": "3fde0f44-ade6-4da5-8100-b0488d795263",
   "metadata": {},
   "outputs": [],
   "source": [
    "import math\n",
    "import traceback"
   ]
  },
  {
   "cell_type": "code",
   "execution_count": 3,
   "id": "1ad5407b-3cb6-43cf-a898-0f66dca8c2a8",
   "metadata": {
    "tags": []
   },
   "outputs": [],
   "source": [
    "#math.comb?"
   ]
  },
  {
   "cell_type": "code",
   "execution_count": 13,
   "id": "6010e444-dff0-4fc9-a7a5-b17dd5bf385c",
   "metadata": {},
   "outputs": [],
   "source": [
    "def part_binomial(n, p=0.51, start=None, end=None):\n",
    "    if end is None:\n",
    "        end = n\n",
    "    if start is None:\n",
    "        start = n//2 + 1\n",
    "    try:\n",
    "        return sum(\n",
    "            math.comb(n, k) * (p**k) * ((1-p)**(n-k)) for k in range(start, end+1)\n",
    "        )\n",
    "    except Exception:\n",
    "        traceback.print_exc()"
   ]
  },
  {
   "cell_type": "code",
   "execution_count": 14,
   "id": "71d90810-8f37-4519-8dce-d8e0315eb609",
   "metadata": {},
   "outputs": [
    {
     "data": {
      "text/plain": [
       "0.7260985557305037"
      ]
     },
     "execution_count": 14,
     "metadata": {},
     "output_type": "execute_result"
    }
   ],
   "source": [
    "part_binomial(1_000)"
   ]
  },
  {
   "cell_type": "code",
   "execution_count": 15,
   "id": "3d5e1675-1657-47e8-bd78-4b29a6d2b834",
   "metadata": {},
   "outputs": [
    {
     "name": "stderr",
     "output_type": "stream",
     "text": [
      "Traceback (most recent call last):\n",
      "  File \"/var/folders/l5/gygxbwc52h1br846nd2ml9b0cnzszn/T/ipykernel_16300/47062240.py\", line 7, in part_binomial\n",
      "    return sum(\n",
      "  File \"/var/folders/l5/gygxbwc52h1br846nd2ml9b0cnzszn/T/ipykernel_16300/47062240.py\", line 8, in <genexpr>\n",
      "    math.comb(n, k) * (p**k) * ((1-p)**(n-k)) for k in range(start, end+1)\n",
      "OverflowError: int too large to convert to float\n"
     ]
    }
   ],
   "source": [
    "part_binomial(10_000)"
   ]
  },
  {
   "cell_type": "code",
   "execution_count": 16,
   "id": "dd709495-45ea-49d0-bc20-ecf262d759d5",
   "metadata": {},
   "outputs": [
    {
     "name": "stderr",
     "output_type": "stream",
     "text": [
      "Traceback (most recent call last):\n",
      "  File \"/var/folders/l5/gygxbwc52h1br846nd2ml9b0cnzszn/T/ipykernel_16300/1688019946.py\", line 4, in <cell line: 3>\n",
      "    float(math.comb(n, k))\n",
      "OverflowError: int too large to convert to float\n"
     ]
    }
   ],
   "source": [
    "n = 10_000\n",
    "k = n//2\n",
    "try:\n",
    "    float(math.comb(n, k))\n",
    "except Exception:\n",
    "    traceback.print_exc()"
   ]
  },
  {
   "cell_type": "code",
   "execution_count": 20,
   "id": "b99c9358-4f62-4232-bab9-be9f3530a974",
   "metadata": {
    "tags": []
   },
   "outputs": [],
   "source": [
    "#scipy.special.comb?"
   ]
  },
  {
   "cell_type": "code",
   "execution_count": 17,
   "id": "e71bb3e7-c4fe-48fb-acc0-6cc4c8834037",
   "metadata": {},
   "outputs": [],
   "source": [
    "import scipy\n",
    "\n",
    "def part_binomial(n, p=0.51, start=None, end=None):\n",
    "    if end is None:\n",
    "        end = n\n",
    "    if start is None:\n",
    "        start = n//2 + 1\n",
    "    try:\n",
    "        return sum(\n",
    "            scipy.special.comb(n, k) * (p**k) * ((1-p)**(n-k)) for k in range(start, end+1)\n",
    "        )\n",
    "    except Exception:\n",
    "        traceback.print_exc()"
   ]
  },
  {
   "cell_type": "code",
   "execution_count": 18,
   "id": "ea4dd81e-af6e-413c-8038-349d8808f633",
   "metadata": {},
   "outputs": [
    {
     "name": "stderr",
     "output_type": "stream",
     "text": [
      "/var/folders/l5/gygxbwc52h1br846nd2ml9b0cnzszn/T/ipykernel_16300/484584378.py:10: RuntimeWarning: invalid value encountered in double_scalars\n",
      "  scipy.special.comb(n, k) * (p**k) * ((1-p)**(n-k)) for k in range(start, end+1)\n"
     ]
    },
    {
     "data": {
      "text/plain": [
       "nan"
      ]
     },
     "execution_count": 18,
     "metadata": {},
     "output_type": "execute_result"
    }
   ],
   "source": [
    "part_binomial(10_000)"
   ]
  },
  {
   "cell_type": "code",
   "execution_count": 21,
   "id": "df63ebe0-6056-4c92-9eba-291b127634ab",
   "metadata": {},
   "outputs": [],
   "source": [
    "import numpy as np"
   ]
  },
  {
   "cell_type": "code",
   "execution_count": 22,
   "id": "4a68edba-8401-4037-9444-9c6fc13ddbae",
   "metadata": {
    "collapsed": true,
    "jupyter": {
     "outputs_hidden": true
    },
    "tags": []
   },
   "outputs": [
    {
     "data": {
      "text/plain": [
       "\u001b[0;31mSignature:\u001b[0m\n",
       "\u001b[0mnp\u001b[0m\u001b[0;34m.\u001b[0m\u001b[0mprod\u001b[0m\u001b[0;34m(\u001b[0m\u001b[0;34m\u001b[0m\n",
       "\u001b[0;34m\u001b[0m    \u001b[0ma\u001b[0m\u001b[0;34m,\u001b[0m\u001b[0;34m\u001b[0m\n",
       "\u001b[0;34m\u001b[0m    \u001b[0maxis\u001b[0m\u001b[0;34m=\u001b[0m\u001b[0;32mNone\u001b[0m\u001b[0;34m,\u001b[0m\u001b[0;34m\u001b[0m\n",
       "\u001b[0;34m\u001b[0m    \u001b[0mdtype\u001b[0m\u001b[0;34m=\u001b[0m\u001b[0;32mNone\u001b[0m\u001b[0;34m,\u001b[0m\u001b[0;34m\u001b[0m\n",
       "\u001b[0;34m\u001b[0m    \u001b[0mout\u001b[0m\u001b[0;34m=\u001b[0m\u001b[0;32mNone\u001b[0m\u001b[0;34m,\u001b[0m\u001b[0;34m\u001b[0m\n",
       "\u001b[0;34m\u001b[0m    \u001b[0mkeepdims\u001b[0m\u001b[0;34m=\u001b[0m\u001b[0;34m<\u001b[0m\u001b[0mno\u001b[0m \u001b[0mvalue\u001b[0m\u001b[0;34m>\u001b[0m\u001b[0;34m,\u001b[0m\u001b[0;34m\u001b[0m\n",
       "\u001b[0;34m\u001b[0m    \u001b[0minitial\u001b[0m\u001b[0;34m=\u001b[0m\u001b[0;34m<\u001b[0m\u001b[0mno\u001b[0m \u001b[0mvalue\u001b[0m\u001b[0;34m>\u001b[0m\u001b[0;34m,\u001b[0m\u001b[0;34m\u001b[0m\n",
       "\u001b[0;34m\u001b[0m    \u001b[0mwhere\u001b[0m\u001b[0;34m=\u001b[0m\u001b[0;34m<\u001b[0m\u001b[0mno\u001b[0m \u001b[0mvalue\u001b[0m\u001b[0;34m>\u001b[0m\u001b[0;34m,\u001b[0m\u001b[0;34m\u001b[0m\n",
       "\u001b[0;34m\u001b[0m\u001b[0;34m)\u001b[0m\u001b[0;34m\u001b[0m\u001b[0;34m\u001b[0m\u001b[0m\n",
       "\u001b[0;31mDocstring:\u001b[0m\n",
       "Return the product of array elements over a given axis.\n",
       "\n",
       "Parameters\n",
       "----------\n",
       "a : array_like\n",
       "    Input data.\n",
       "axis : None or int or tuple of ints, optional\n",
       "    Axis or axes along which a product is performed.  The default,\n",
       "    axis=None, will calculate the product of all the elements in the\n",
       "    input array. If axis is negative it counts from the last to the\n",
       "    first axis.\n",
       "\n",
       "    .. versionadded:: 1.7.0\n",
       "\n",
       "    If axis is a tuple of ints, a product is performed on all of the\n",
       "    axes specified in the tuple instead of a single axis or all the\n",
       "    axes as before.\n",
       "dtype : dtype, optional\n",
       "    The type of the returned array, as well as of the accumulator in\n",
       "    which the elements are multiplied.  The dtype of `a` is used by\n",
       "    default unless `a` has an integer dtype of less precision than the\n",
       "    default platform integer.  In that case, if `a` is signed then the\n",
       "    platform integer is used while if `a` is unsigned then an unsigned\n",
       "    integer of the same precision as the platform integer is used.\n",
       "out : ndarray, optional\n",
       "    Alternative output array in which to place the result. It must have\n",
       "    the same shape as the expected output, but the type of the output\n",
       "    values will be cast if necessary.\n",
       "keepdims : bool, optional\n",
       "    If this is set to True, the axes which are reduced are left in the\n",
       "    result as dimensions with size one. With this option, the result\n",
       "    will broadcast correctly against the input array.\n",
       "\n",
       "    If the default value is passed, then `keepdims` will not be\n",
       "    passed through to the `prod` method of sub-classes of\n",
       "    `ndarray`, however any non-default value will be.  If the\n",
       "    sub-class' method does not implement `keepdims` any\n",
       "    exceptions will be raised.\n",
       "initial : scalar, optional\n",
       "    The starting value for this product. See `~numpy.ufunc.reduce` for details.\n",
       "\n",
       "    .. versionadded:: 1.15.0\n",
       "\n",
       "where : array_like of bool, optional\n",
       "    Elements to include in the product. See `~numpy.ufunc.reduce` for details.\n",
       "\n",
       "    .. versionadded:: 1.17.0\n",
       "\n",
       "Returns\n",
       "-------\n",
       "product_along_axis : ndarray, see `dtype` parameter above.\n",
       "    An array shaped as `a` but with the specified axis removed.\n",
       "    Returns a reference to `out` if specified.\n",
       "\n",
       "See Also\n",
       "--------\n",
       "ndarray.prod : equivalent method\n",
       ":ref:`ufuncs-output-type`\n",
       "\n",
       "Notes\n",
       "-----\n",
       "Arithmetic is modular when using integer types, and no error is\n",
       "raised on overflow.  That means that, on a 32-bit platform:\n",
       "\n",
       ">>> x = np.array([536870910, 536870910, 536870910, 536870910])\n",
       ">>> np.prod(x)\n",
       "16 # may vary\n",
       "\n",
       "The product of an empty array is the neutral element 1:\n",
       "\n",
       ">>> np.prod([])\n",
       "1.0\n",
       "\n",
       "Examples\n",
       "--------\n",
       "By default, calculate the product of all elements:\n",
       "\n",
       ">>> np.prod([1.,2.])\n",
       "2.0\n",
       "\n",
       "Even when the input array is two-dimensional:\n",
       "\n",
       ">>> np.prod([[1.,2.],[3.,4.]])\n",
       "24.0\n",
       "\n",
       "But we can also specify the axis over which to multiply:\n",
       "\n",
       ">>> np.prod([[1.,2.],[3.,4.]], axis=1)\n",
       "array([  2.,  12.])\n",
       "\n",
       "Or select specific elements to include:\n",
       "\n",
       ">>> np.prod([1., np.nan, 3.], where=[True, False, True])\n",
       "3.0\n",
       "\n",
       "If the type of `x` is unsigned, then the output type is\n",
       "the unsigned platform integer:\n",
       "\n",
       ">>> x = np.array([1, 2, 3], dtype=np.uint8)\n",
       ">>> np.prod(x).dtype == np.uint\n",
       "True\n",
       "\n",
       "If `x` is of a signed integer type, then the output type\n",
       "is the default platform integer:\n",
       "\n",
       ">>> x = np.array([1, 2, 3], dtype=np.int8)\n",
       ">>> np.prod(x).dtype == int\n",
       "True\n",
       "\n",
       "You can also start the product with a value other than one:\n",
       "\n",
       ">>> np.prod([1, 2], initial=5)\n",
       "10\n",
       "\u001b[0;31mFile:\u001b[0m      ~/.local/bin/miniconda3/envs/py3.10/lib/python3.10/site-packages/numpy/core/fromnumeric.py\n",
       "\u001b[0;31mType:\u001b[0m      function\n"
      ]
     },
     "metadata": {},
     "output_type": "display_data"
    }
   ],
   "source": [
    "np.prod?"
   ]
  },
  {
   "cell_type": "code",
   "execution_count": 23,
   "id": "46014863-cf00-4d09-9d51-e2dab0b02d01",
   "metadata": {},
   "outputs": [],
   "source": [
    "def kth_term(x, y, n, k):\n",
    "    #p = k if n-k > k else n-k\n",
    "    #q = n - p\n",
    "    p, q = max(k, n-k), min(k, n-k)\n",
    "    print(f\"{p = }\")\n",
    "    print(f\"{q = }\")\n",
    "    a, b = max(x, y), min(x, y)\n",
    "    print(f\"{a = }\")\n",
    "    print(f\"{b = }\")\n",
    "    #A = a**p\n",
    "    #print(f\"{A = }\")\n",
    "    #B = np.prod(np.arange(n-q+1, n+1) / np.arange(1, q+1) * b)\n",
    "    B = np.arange(n-q+1, n+1) / np.arange(1, q+1)\n",
    "    print(f\"{B = }\")\n",
    "    res = np.prod(np.arange(n-q+1, n+1) / np.arange(1, q+1), initial=a**p * b**q)\n",
    "    #return A*B\n",
    "    return res"
   ]
  },
  {
   "cell_type": "code",
   "execution_count": 24,
   "id": "7d40293e-5a52-42a3-b2b2-fcb60fb0c2ba",
   "metadata": {},
   "outputs": [
    {
     "name": "stdout",
     "output_type": "stream",
     "text": [
      "p = 5000\n",
      "q = 5000\n",
      "a = 0.51\n",
      "b = 0.49\n",
      "B = array([5.00100000e+03, 2.50100000e+03, 1.66766667e+03, ...,\n",
      "       2.00040016e+00, 2.00020004e+00, 2.00000000e+00])\n"
     ]
    },
    {
     "data": {
      "text/plain": [
       "0.0"
      ]
     },
     "execution_count": 24,
     "metadata": {},
     "output_type": "execute_result"
    }
   ],
   "source": [
    "kth_term(0.51, 1-0.51, 10_000, 5_000)"
   ]
  },
  {
   "cell_type": "code",
   "execution_count": 25,
   "id": "a7c0f8c3-3fbf-4b72-88aa-fa2e1f6bef99",
   "metadata": {},
   "outputs": [],
   "source": [
    "def kth_term(x, y, n, k):\n",
    "    A = math.log(math.comb(n,k))\n",
    "    B = math.log(x) * k\n",
    "    C = math.log(y) * (n-k)\n",
    "    return math.exp(A+B+C)"
   ]
  },
  {
   "cell_type": "code",
   "execution_count": 16,
   "id": "3679f86e-172c-4fb3-8c4b-a4ed3ae310ce",
   "metadata": {},
   "outputs": [],
   "source": [
    "from tqdm.auto import tqdm"
   ]
  },
  {
   "cell_type": "code",
   "execution_count": 27,
   "id": "aec169be-5b02-4eb8-a8f8-3dfcdcdd47d9",
   "metadata": {},
   "outputs": [
    {
     "data": {
      "application/json": {
       "ascii": false,
       "bar_format": null,
       "colour": null,
       "elapsed": 0.03371691703796387,
       "initial": 0,
       "n": 0,
       "ncols": null,
       "nrows": 33,
       "postfix": null,
       "prefix": "",
       "rate": null,
       "total": 999999,
       "unit": "it",
       "unit_divisor": 1000,
       "unit_scale": false
      },
      "application/vnd.jupyter.widget-view+json": {
       "model_id": "0e9631c68f604ab28ab00049190b8045",
       "version_major": 2,
       "version_minor": 0
      },
      "text/plain": [
       "  0%|          | 0/999999 [00:00<?, ?it/s]"
      ]
     },
     "metadata": {},
     "output_type": "display_data"
    },
    {
     "data": {
      "text/plain": [
       "<tqdm.auto.tqdm at 0x7f813f9baad0>"
      ]
     },
     "execution_count": 27,
     "metadata": {},
     "output_type": "execute_result"
    }
   ],
   "source": [
    "tqdm(range(999999))"
   ]
  },
  {
   "cell_type": "code",
   "execution_count": 28,
   "id": "ab772cd5-da1b-46eb-bafb-928c9a778e97",
   "metadata": {},
   "outputs": [],
   "source": [
    "def sum_terms(n, x, y, start=None, end=None):\n",
    "    if end is None:\n",
    "        end = n+1\n",
    "    if start is None:\n",
    "        start = n//2 + 1\n",
    "    try:\n",
    "        return sum(\n",
    "            kth_term(x, y, n, k) for k in tqdm(range(start, end))\n",
    "        )\n",
    "    except Exception:\n",
    "        traceback.print_exc()"
   ]
  },
  {
   "cell_type": "code",
   "execution_count": 29,
   "id": "173a5fb7-9c04-46b5-8636-d8a8173dccbf",
   "metadata": {},
   "outputs": [
    {
     "data": {
      "application/json": {
       "ascii": false,
       "bar_format": null,
       "colour": null,
       "elapsed": 0.024637222290039062,
       "initial": 0,
       "n": 0,
       "ncols": null,
       "nrows": 33,
       "postfix": null,
       "prefix": "",
       "rate": null,
       "total": 500,
       "unit": "it",
       "unit_divisor": 1000,
       "unit_scale": false
      },
      "application/vnd.jupyter.widget-view+json": {
       "model_id": "ea4c2dbac99e42a39f5f30b5bdd72246",
       "version_major": 2,
       "version_minor": 0
      },
      "text/plain": [
       "  0%|          | 0/500 [00:00<?, ?it/s]"
      ]
     },
     "metadata": {},
     "output_type": "display_data"
    },
    {
     "data": {
      "text/plain": [
       "0.7260985557304759"
      ]
     },
     "execution_count": 29,
     "metadata": {},
     "output_type": "execute_result"
    }
   ],
   "source": [
    "p = 0.51\n",
    "n = 1_000\n",
    "sum_terms(n, p, 1-p)"
   ]
  },
  {
   "cell_type": "code",
   "execution_count": 30,
   "id": "adf6442f-f274-4c67-8f5a-6a0839cd7867",
   "metadata": {},
   "outputs": [
    {
     "data": {
      "application/json": {
       "ascii": false,
       "bar_format": null,
       "colour": null,
       "elapsed": 0.05376911163330078,
       "initial": 0,
       "n": 0,
       "ncols": null,
       "nrows": 33,
       "postfix": null,
       "prefix": "",
       "rate": null,
       "total": 5000,
       "unit": "it",
       "unit_divisor": 1000,
       "unit_scale": false
      },
      "application/vnd.jupyter.widget-view+json": {
       "model_id": "2a59a64171d744388eaefa0c5347d5af",
       "version_major": 2,
       "version_minor": 0
      },
      "text/plain": [
       "  0%|          | 0/5000 [00:00<?, ?it/s]"
      ]
     },
     "metadata": {},
     "output_type": "display_data"
    },
    {
     "data": {
      "text/plain": [
       "0.9767182874802731"
      ]
     },
     "execution_count": 30,
     "metadata": {},
     "output_type": "execute_result"
    }
   ],
   "source": [
    "p = 0.51\n",
    "n = 10_000\n",
    "sum_terms(n, p, 1-p)"
   ]
  },
  {
   "cell_type": "code",
   "execution_count": null,
   "id": "0d67e6ec-151e-42a5-a10f-0a070b637dbf",
   "metadata": {},
   "outputs": [],
   "source": []
  },
  {
   "cell_type": "code",
   "execution_count": 1,
   "id": "75bb188e-cea6-4919-ad6f-33645891cd8d",
   "metadata": {},
   "outputs": [],
   "source": [
    "import numpy as np"
   ]
  },
  {
   "cell_type": "code",
   "execution_count": 8,
   "id": "4ca2aec9-ca21-48b1-ba23-a8ff8acde886",
   "metadata": {
    "collapsed": true,
    "jupyter": {
     "outputs_hidden": true
    },
    "tags": []
   },
   "outputs": [
    {
     "data": {
      "text/plain": [
       "\u001b[0;31mDocstring:\u001b[0m\n",
       "uniform(low=0.0, high=1.0, size=None)\n",
       "\n",
       "Draw samples from a uniform distribution.\n",
       "\n",
       "Samples are uniformly distributed over the half-open interval\n",
       "``[low, high)`` (includes low, but excludes high).  In other words,\n",
       "any value within the given interval is equally likely to be drawn\n",
       "by `uniform`.\n",
       "\n",
       ".. note::\n",
       "    New code should use the ``uniform`` method of a ``default_rng()``\n",
       "    instance instead; please see the :ref:`random-quick-start`.\n",
       "\n",
       "Parameters\n",
       "----------\n",
       "low : float or array_like of floats, optional\n",
       "    Lower boundary of the output interval.  All values generated will be\n",
       "    greater than or equal to low.  The default value is 0.\n",
       "high : float or array_like of floats\n",
       "    Upper boundary of the output interval.  All values generated will be\n",
       "    less than or equal to high.  The high limit may be included in the \n",
       "    returned array of floats due to floating-point rounding in the \n",
       "    equation ``low + (high-low) * random_sample()``.  The default value \n",
       "    is 1.0.\n",
       "size : int or tuple of ints, optional\n",
       "    Output shape.  If the given shape is, e.g., ``(m, n, k)``, then\n",
       "    ``m * n * k`` samples are drawn.  If size is ``None`` (default),\n",
       "    a single value is returned if ``low`` and ``high`` are both scalars.\n",
       "    Otherwise, ``np.broadcast(low, high).size`` samples are drawn.\n",
       "\n",
       "Returns\n",
       "-------\n",
       "out : ndarray or scalar\n",
       "    Drawn samples from the parameterized uniform distribution.\n",
       "\n",
       "See Also\n",
       "--------\n",
       "randint : Discrete uniform distribution, yielding integers.\n",
       "random_integers : Discrete uniform distribution over the closed\n",
       "                  interval ``[low, high]``.\n",
       "random_sample : Floats uniformly distributed over ``[0, 1)``.\n",
       "random : Alias for `random_sample`.\n",
       "rand : Convenience function that accepts dimensions as input, e.g.,\n",
       "       ``rand(2,2)`` would generate a 2-by-2 array of floats,\n",
       "       uniformly distributed over ``[0, 1)``.\n",
       "random.Generator.uniform: which should be used for new code.\n",
       "\n",
       "Notes\n",
       "-----\n",
       "The probability density function of the uniform distribution is\n",
       "\n",
       ".. math:: p(x) = \\frac{1}{b - a}\n",
       "\n",
       "anywhere within the interval ``[a, b)``, and zero elsewhere.\n",
       "\n",
       "When ``high`` == ``low``, values of ``low`` will be returned.\n",
       "If ``high`` < ``low``, the results are officially undefined\n",
       "and may eventually raise an error, i.e. do not rely on this\n",
       "function to behave when passed arguments satisfying that\n",
       "inequality condition. The ``high`` limit may be included in the\n",
       "returned array of floats due to floating-point rounding in the\n",
       "equation ``low + (high-low) * random_sample()``. For example:\n",
       "\n",
       ">>> x = np.float32(5*0.99999999)\n",
       ">>> x\n",
       "5.0\n",
       "\n",
       "\n",
       "Examples\n",
       "--------\n",
       "Draw samples from the distribution:\n",
       "\n",
       ">>> s = np.random.uniform(-1,0,1000)\n",
       "\n",
       "All values are within the given interval:\n",
       "\n",
       ">>> np.all(s >= -1)\n",
       "True\n",
       ">>> np.all(s < 0)\n",
       "True\n",
       "\n",
       "Display the histogram of the samples, along with the\n",
       "probability density function:\n",
       "\n",
       ">>> import matplotlib.pyplot as plt\n",
       ">>> count, bins, ignored = plt.hist(s, 15, density=True)\n",
       ">>> plt.plot(bins, np.ones_like(bins), linewidth=2, color='r')\n",
       ">>> plt.show()\n",
       "\u001b[0;31mType:\u001b[0m      builtin_function_or_method\n"
      ]
     },
     "metadata": {},
     "output_type": "display_data"
    }
   ],
   "source": [
    "np.random.uniform?"
   ]
  },
  {
   "cell_type": "code",
   "execution_count": 9,
   "id": "5ec26a1a-1a8a-480f-997c-5827194b3ce6",
   "metadata": {
    "collapsed": true,
    "jupyter": {
     "outputs_hidden": true
    },
    "tags": []
   },
   "outputs": [
    {
     "data": {
      "text/plain": [
       "\u001b[0;31mDocstring:\u001b[0m\n",
       "binomial(n, p, size=None)\n",
       "\n",
       "Draw samples from a binomial distribution.\n",
       "\n",
       "Samples are drawn from a binomial distribution with specified\n",
       "parameters, n trials and p probability of success where\n",
       "n an integer >= 0 and p is in the interval [0,1]. (n may be\n",
       "input as a float, but it is truncated to an integer in use)\n",
       "\n",
       ".. note::\n",
       "    New code should use the ``binomial`` method of a ``default_rng()``\n",
       "    instance instead; please see the :ref:`random-quick-start`.\n",
       "\n",
       "Parameters\n",
       "----------\n",
       "n : int or array_like of ints\n",
       "    Parameter of the distribution, >= 0. Floats are also accepted,\n",
       "    but they will be truncated to integers.\n",
       "p : float or array_like of floats\n",
       "    Parameter of the distribution, >= 0 and <=1.\n",
       "size : int or tuple of ints, optional\n",
       "    Output shape.  If the given shape is, e.g., ``(m, n, k)``, then\n",
       "    ``m * n * k`` samples are drawn.  If size is ``None`` (default),\n",
       "    a single value is returned if ``n`` and ``p`` are both scalars.\n",
       "    Otherwise, ``np.broadcast(n, p).size`` samples are drawn.\n",
       "\n",
       "Returns\n",
       "-------\n",
       "out : ndarray or scalar\n",
       "    Drawn samples from the parameterized binomial distribution, where\n",
       "    each sample is equal to the number of successes over the n trials.\n",
       "\n",
       "See Also\n",
       "--------\n",
       "scipy.stats.binom : probability density function, distribution or\n",
       "    cumulative density function, etc.\n",
       "random.Generator.binomial: which should be used for new code.\n",
       "\n",
       "Notes\n",
       "-----\n",
       "The probability density for the binomial distribution is\n",
       "\n",
       ".. math:: P(N) = \\binom{n}{N}p^N(1-p)^{n-N},\n",
       "\n",
       "where :math:`n` is the number of trials, :math:`p` is the probability\n",
       "of success, and :math:`N` is the number of successes.\n",
       "\n",
       "When estimating the standard error of a proportion in a population by\n",
       "using a random sample, the normal distribution works well unless the\n",
       "product p*n <=5, where p = population proportion estimate, and n =\n",
       "number of samples, in which case the binomial distribution is used\n",
       "instead. For example, a sample of 15 people shows 4 who are left\n",
       "handed, and 11 who are right handed. Then p = 4/15 = 27%. 0.27*15 = 4,\n",
       "so the binomial distribution should be used in this case.\n",
       "\n",
       "References\n",
       "----------\n",
       ".. [1] Dalgaard, Peter, \"Introductory Statistics with R\",\n",
       "       Springer-Verlag, 2002.\n",
       ".. [2] Glantz, Stanton A. \"Primer of Biostatistics.\", McGraw-Hill,\n",
       "       Fifth Edition, 2002.\n",
       ".. [3] Lentner, Marvin, \"Elementary Applied Statistics\", Bogden\n",
       "       and Quigley, 1972.\n",
       ".. [4] Weisstein, Eric W. \"Binomial Distribution.\" From MathWorld--A\n",
       "       Wolfram Web Resource.\n",
       "       http://mathworld.wolfram.com/BinomialDistribution.html\n",
       ".. [5] Wikipedia, \"Binomial distribution\",\n",
       "       https://en.wikipedia.org/wiki/Binomial_distribution\n",
       "\n",
       "Examples\n",
       "--------\n",
       "Draw samples from the distribution:\n",
       "\n",
       ">>> n, p = 10, .5  # number of trials, probability of each trial\n",
       ">>> s = np.random.binomial(n, p, 1000)\n",
       "# result of flipping a coin 10 times, tested 1000 times.\n",
       "\n",
       "A real world example. A company drills 9 wild-cat oil exploration\n",
       "wells, each with an estimated probability of success of 0.1. All nine\n",
       "wells fail. What is the probability of that happening?\n",
       "\n",
       "Let's do 20,000 trials of the model, and count the number that\n",
       "generate zero positive results.\n",
       "\n",
       ">>> sum(np.random.binomial(9, 0.1, 20000) == 0)/20000.\n",
       "# answer = 0.38885, or 38%.\n",
       "\u001b[0;31mType:\u001b[0m      builtin_function_or_method\n"
      ]
     },
     "metadata": {},
     "output_type": "display_data"
    }
   ],
   "source": [
    "np.random.binomial?"
   ]
  },
  {
   "cell_type": "code",
   "execution_count": 10,
   "id": "510f45e9-6110-40c0-80b0-68d8d2f6f7df",
   "metadata": {},
   "outputs": [],
   "source": [
    "class Bernoulli(int):\n",
    "    def __new__(self, p=0.51):\n",
    "        \"\"\"\n",
    "        For more info on __new__, cf. e.g.\n",
    "        https://www.youtube.com/watch?v=-zsV0_QrfTw\n",
    "        \"\"\"\n",
    "        #return int(np.random.uniform() < p)\n",
    "        return np.random.uniform() < p"
   ]
  },
  {
   "cell_type": "markdown",
   "id": "278ecd59-cb4f-48f2-90f6-852abd48fd06",
   "metadata": {},
   "source": [
    "### Rmk.\n",
    "For more info on `__new__`, cf. e.g. [YouTuber\n",
    "mCoding](https://www.youtube.com/watch?v=-zsV0_QrfTw)"
   ]
  },
  {
   "cell_type": "code",
   "execution_count": 17,
   "id": "5620f31d-2dbb-48c0-8e3e-6e19e5de4e76",
   "metadata": {},
   "outputs": [],
   "source": [
    "def test_Bernoulli(n=10_000, p=0.51):\n",
    "    Xs = [Bernoulli(p) for _ in range(n)]\n",
    "    return sum(Xs)/len(Xs)"
   ]
  },
  {
   "cell_type": "code",
   "execution_count": 18,
   "id": "03d14d21-5259-4e22-b68e-1eb987534b05",
   "metadata": {},
   "outputs": [
    {
     "data": {
      "text/plain": [
       "0.0"
      ]
     },
     "execution_count": 18,
     "metadata": {},
     "output_type": "execute_result"
    }
   ],
   "source": [
    "test_Bernoulli(n=1_000)"
   ]
  },
  {
   "cell_type": "code",
   "execution_count": 24,
   "id": "dd4af27a-3854-4b44-bacf-ffa72d028b5c",
   "metadata": {},
   "outputs": [
    {
     "data": {
      "text/plain": [
       "0.2979"
      ]
     },
     "execution_count": 24,
     "metadata": {},
     "output_type": "execute_result"
    }
   ],
   "source": [
    "test_Bernoulli(n=10_000, p=0.3)"
   ]
  },
  {
   "cell_type": "code",
   "execution_count": 25,
   "id": "061e2d85-3b63-4613-90db-e8fbc3436931",
   "metadata": {},
   "outputs": [],
   "source": [
    "def test_hypo_by_Bernoulli(n=1_000, p=0.51, n_trials=100):\n",
    "    trials = []\n",
    "    for _ in tqdm(range(n_trials)):\n",
    "        Xs = [Bernoulli(p) for _ in range(n)]\n",
    "        S = sum(Xs)\n",
    "        #print(f\"{S = }\")\n",
    "        #trials.append(S > n/2)\n",
    "        trials.append(S > n/2)\n",
    "    #print(f\"{sum(trials) = }\")\n",
    "    return sum(trials)/n_trials"
   ]
  },
  {
   "cell_type": "code",
   "execution_count": 26,
   "id": "fb2b5fdf-d3ec-4392-b0d0-60d2d87f7542",
   "metadata": {},
   "outputs": [
    {
     "data": {
      "application/json": {
       "ascii": false,
       "bar_format": null,
       "colour": null,
       "elapsed": 0.07309675216674805,
       "initial": 0,
       "n": 0,
       "ncols": null,
       "nrows": 32,
       "postfix": null,
       "prefix": "",
       "rate": null,
       "total": 300,
       "unit": "it",
       "unit_divisor": 1000,
       "unit_scale": false
      },
      "application/vnd.jupyter.widget-view+json": {
       "model_id": "0a087728c4524459b62f26d4d8518d89",
       "version_major": 2,
       "version_minor": 0
      },
      "text/plain": [
       "  0%|          | 0/300 [00:00<?, ?it/s]"
      ]
     },
     "metadata": {},
     "output_type": "display_data"
    },
    {
     "data": {
      "text/plain": [
       "0.7133333333333334"
      ]
     },
     "execution_count": 26,
     "metadata": {},
     "output_type": "execute_result"
    }
   ],
   "source": [
    "test_hypo_by_Bernoulli(n=1_000, n_trials=300)"
   ]
  },
  {
   "cell_type": "code",
   "execution_count": 27,
   "id": "642b713d-b2d9-4c93-95ae-2013b1773a66",
   "metadata": {},
   "outputs": [
    {
     "data": {
      "application/json": {
       "ascii": false,
       "bar_format": null,
       "colour": null,
       "elapsed": 0.11233353614807129,
       "initial": 0,
       "n": 0,
       "ncols": null,
       "nrows": 32,
       "postfix": null,
       "prefix": "",
       "rate": null,
       "total": 200,
       "unit": "it",
       "unit_divisor": 1000,
       "unit_scale": false
      },
      "application/vnd.jupyter.widget-view+json": {
       "model_id": "f689d3c298244520a74712185a479cf9",
       "version_major": 2,
       "version_minor": 0
      },
      "text/plain": [
       "  0%|          | 0/200 [00:00<?, ?it/s]"
      ]
     },
     "metadata": {},
     "output_type": "display_data"
    },
    {
     "data": {
      "text/plain": [
       "0.5"
      ]
     },
     "execution_count": 27,
     "metadata": {},
     "output_type": "execute_result"
    }
   ],
   "source": [
    "test_hypo_by_Bernoulli(n=10_000, p=0.5, n_trials=200)"
   ]
  },
  {
   "cell_type": "code",
   "execution_count": 28,
   "id": "12656885-1335-4475-b702-12b23c933d67",
   "metadata": {},
   "outputs": [
    {
     "data": {
      "application/json": {
       "ascii": false,
       "bar_format": null,
       "colour": null,
       "elapsed": 0.20480561256408691,
       "initial": 0,
       "n": 0,
       "ncols": null,
       "nrows": 32,
       "postfix": null,
       "prefix": "",
       "rate": null,
       "total": 100,
       "unit": "it",
       "unit_divisor": 1000,
       "unit_scale": false
      },
      "application/vnd.jupyter.widget-view+json": {
       "model_id": "89481c7f431a435c8435255d5d2d4f36",
       "version_major": 2,
       "version_minor": 0
      },
      "text/plain": [
       "  0%|          | 0/100 [00:00<?, ?it/s]"
      ]
     },
     "metadata": {},
     "output_type": "display_data"
    },
    {
     "data": {
      "text/plain": [
       "0.98"
      ]
     },
     "execution_count": 28,
     "metadata": {},
     "output_type": "execute_result"
    }
   ],
   "source": [
    "test_hypo_by_Bernoulli(n=10_000, n_trials=100)"
   ]
  },
  {
   "cell_type": "code",
   "execution_count": null,
   "id": "4cdea619-24d2-4e6a-9ff7-653067f1b7b9",
   "metadata": {},
   "outputs": [],
   "source": []
  },
  {
   "cell_type": "code",
   "execution_count": null,
   "id": "0cc9bb61-b93b-491f-b26d-4ef062d54db8",
   "metadata": {},
   "outputs": [],
   "source": []
  },
  {
   "cell_type": "code",
   "execution_count": null,
   "id": "854e8d50-e386-485c-9611-c04c41adaf92",
   "metadata": {},
   "outputs": [],
   "source": []
  },
  {
   "cell_type": "code",
   "execution_count": null,
   "id": "2b5b6188-6f09-46c1-89ca-8f6011326829",
   "metadata": {},
   "outputs": [],
   "source": []
  },
  {
   "cell_type": "code",
   "execution_count": 30,
   "id": "3cde3ec4-8d39-4629-a8cf-e046ba601137",
   "metadata": {
    "collapsed": true,
    "jupyter": {
     "outputs_hidden": true
    },
    "tags": []
   },
   "outputs": [
    {
     "data": {
      "text/plain": [
       "\u001b[0;31mSignature:\u001b[0m \u001b[0mnp\u001b[0m\u001b[0;34m.\u001b[0m\u001b[0msize\u001b[0m\u001b[0;34m(\u001b[0m\u001b[0ma\u001b[0m\u001b[0;34m,\u001b[0m \u001b[0maxis\u001b[0m\u001b[0;34m=\u001b[0m\u001b[0;32mNone\u001b[0m\u001b[0;34m)\u001b[0m\u001b[0;34m\u001b[0m\u001b[0;34m\u001b[0m\u001b[0m\n",
       "\u001b[0;31mDocstring:\u001b[0m\n",
       "Return the number of elements along a given axis.\n",
       "\n",
       "Parameters\n",
       "----------\n",
       "a : array_like\n",
       "    Input data.\n",
       "axis : int, optional\n",
       "    Axis along which the elements are counted.  By default, give\n",
       "    the total number of elements.\n",
       "\n",
       "Returns\n",
       "-------\n",
       "element_count : int\n",
       "    Number of elements along the specified axis.\n",
       "\n",
       "See Also\n",
       "--------\n",
       "shape : dimensions of array\n",
       "ndarray.shape : dimensions of array\n",
       "ndarray.size : number of elements in array\n",
       "\n",
       "Examples\n",
       "--------\n",
       ">>> a = np.array([[1,2,3],[4,5,6]])\n",
       ">>> np.size(a)\n",
       "6\n",
       ">>> np.size(a,1)\n",
       "3\n",
       ">>> np.size(a,0)\n",
       "2\n",
       "\u001b[0;31mFile:\u001b[0m      ~/.local/bin/miniconda3/envs/py3.10/lib/python3.10/site-packages/numpy/core/fromnumeric.py\n",
       "\u001b[0;31mType:\u001b[0m      function\n"
      ]
     },
     "metadata": {},
     "output_type": "display_data"
    }
   ],
   "source": [
    "np.size?"
   ]
  },
  {
   "cell_type": "code",
   "execution_count": 31,
   "id": "fd93f9c1-9997-4959-a995-117a3c8ab4a6",
   "metadata": {},
   "outputs": [
    {
     "data": {
      "text/plain": [
       "45"
      ]
     },
     "execution_count": 31,
     "metadata": {},
     "output_type": "execute_result"
    }
   ],
   "source": [
    "np.arange(10).sum()"
   ]
  },
  {
   "cell_type": "code",
   "execution_count": 40,
   "id": "5aacdd97-360f-4874-828e-bd9be6aa7134",
   "metadata": {},
   "outputs": [],
   "source": [
    "def test_hypo_by_binomial(n=1_000, p=0.51, n_trials=1_000):\n",
    "    Ss = np.random.binomial(n, p, size=n_trials)\n",
    "    return np.sum(Ss > n/2) / n_trials"
   ]
  },
  {
   "cell_type": "code",
   "execution_count": 41,
   "id": "532bf4eb-9886-4b82-b18f-3262dfd37ddf",
   "metadata": {},
   "outputs": [
    {
     "name": "stdout",
     "output_type": "stream",
     "text": [
      "96.2 µs ± 4.11 µs per loop (mean ± std. dev. of 7 runs, 10,000 loops each)\n"
     ]
    }
   ],
   "source": [
    "%%timeit\n",
    "test_hypo_by_binomial()"
   ]
  },
  {
   "cell_type": "code",
   "execution_count": 42,
   "id": "ba0bf59f-063a-4669-9a32-a00873959d27",
   "metadata": {},
   "outputs": [
    {
     "name": "stdout",
     "output_type": "stream",
     "text": [
      "84.3 µs ± 2.91 µs per loop (mean ± std. dev. of 7 runs, 10,000 loops each)\n"
     ]
    }
   ],
   "source": [
    "%%timeit\n",
    "test_hypo_by_binomial(n=10_000)"
   ]
  },
  {
   "cell_type": "code",
   "execution_count": 43,
   "id": "4a9673af-2f05-4241-9555-1e9c6bdcbe20",
   "metadata": {},
   "outputs": [],
   "source": [
    "def test_hypo_by_binomial2(n=1_000, p=0.51, n_trials=1_000):\n",
    "    Ss = np.random.binomial(n, p, size=n_trials)\n",
    "    return sum(Ss > n/2) / n_trials"
   ]
  },
  {
   "cell_type": "code",
   "execution_count": 44,
   "id": "103b0ee9-bc31-4082-a69c-5b1868b2600a",
   "metadata": {},
   "outputs": [
    {
     "name": "stdout",
     "output_type": "stream",
     "text": [
      "197 µs ± 16.3 µs per loop (mean ± std. dev. of 7 runs, 1,000 loops each)\n"
     ]
    }
   ],
   "source": [
    "%%timeit\n",
    "test_hypo_by_binomial2()"
   ]
  },
  {
   "cell_type": "code",
   "execution_count": 45,
   "id": "9d115da6-6ece-4ba6-874a-3f3cbe8f1898",
   "metadata": {},
   "outputs": [
    {
     "name": "stdout",
     "output_type": "stream",
     "text": [
      "204 µs ± 9.53 µs per loop (mean ± std. dev. of 7 runs, 10,000 loops each)\n"
     ]
    }
   ],
   "source": [
    "%%timeit\n",
    "test_hypo_by_binomial2(n=10_000)"
   ]
  },
  {
   "cell_type": "code",
   "execution_count": null,
   "id": "a39e7fa2-e221-4e70-aeee-f8d8db9ca143",
   "metadata": {},
   "outputs": [],
   "source": []
  },
  {
   "cell_type": "code",
   "execution_count": null,
   "id": "a7173a62-81a6-40f4-bb64-ac87ee447547",
   "metadata": {},
   "outputs": [],
   "source": []
  },
  {
   "cell_type": "markdown",
   "id": "1681625b-db0a-46c0-bfd8-8468d4c5e469",
   "metadata": {
    "tags": []
   },
   "source": [
    "## Q&A"
   ]
  },
  {
   "cell_type": "markdown",
   "id": "5aa222e0-9b4c-404b-8b5b-c0836efcb31c",
   "metadata": {},
   "source": [
    "**(?1)** Isn't `np.random.uniform() < p` an instance of `bool`? Why `Bernoulli`'s `__new__` returns a `bool` instead of an `int`?"
   ]
  },
  {
   "cell_type": "markdown",
   "id": "792c3cce-7ad3-4fe9-9347-af0c022448f3",
   "metadata": {},
   "source": [
    "**(R1)** This could be answered by the following few code cells:"
   ]
  },
  {
   "cell_type": "code",
   "execution_count": 2,
   "id": "2e306c6a-3391-477b-816a-b09d9cb068e5",
   "metadata": {},
   "outputs": [
    {
     "data": {
      "text/plain": [
       "(True, True)"
      ]
     },
     "execution_count": 2,
     "metadata": {},
     "output_type": "execute_result"
    }
   ],
   "source": [
    "isinstance(True, int), isinstance(False, int)"
   ]
  },
  {
   "cell_type": "code",
   "execution_count": 3,
   "id": "8125c4ee-3423-4665-a11a-9315a619ddfa",
   "metadata": {},
   "outputs": [
    {
     "data": {
      "text/plain": [
       "(True, True)"
      ]
     },
     "execution_count": 3,
     "metadata": {},
     "output_type": "execute_result"
    }
   ],
   "source": [
    "True == 1, False == 0"
   ]
  },
  {
   "cell_type": "code",
   "execution_count": 4,
   "id": "60deed8e-cd5c-4354-80e7-3478a300c014",
   "metadata": {},
   "outputs": [
    {
     "data": {
      "text/plain": [
       "False"
      ]
     },
     "execution_count": 4,
     "metadata": {},
     "output_type": "execute_result"
    }
   ],
   "source": [
    "True == 2"
   ]
  },
  {
   "cell_type": "code",
   "execution_count": 6,
   "id": "c7383272-f80a-4d57-941b-c42d3ee8d1e0",
   "metadata": {},
   "outputs": [
    {
     "data": {
      "text/plain": [
       "(True, True)"
      ]
     },
     "execution_count": 6,
     "metadata": {},
     "output_type": "execute_result"
    }
   ],
   "source": [
    "isinstance(True, bool), issubclass(bool, int)"
   ]
  },
  {
   "cell_type": "markdown",
   "id": "34b5b83c-471f-433a-9981-02bc070912a9",
   "metadata": {},
   "source": [
    "**(?2)** Why should we have defined our `Bernoulli` class as follows?\n",
    "```python\n",
    "class Bernoulli(int):\n",
    "    def __new__(cls, p=0.51):\n",
    "        return super().__new__(cls)\n",
    "\n",
    "    def __init__(self, p=0.51):\n",
    "        self = np.random.uniform() < p\n",
    "```"
   ]
  },
  {
   "cell_type": "markdown",
   "id": "53425fb5-b6cc-402b-8472-c48700a0b92b",
   "metadata": {},
   "source": [
    "**(R2)** Why don't we try it by ourselves?"
   ]
  },
  {
   "cell_type": "code",
   "execution_count": 19,
   "id": "81d67183-8288-419f-aca8-da12dfd53b86",
   "metadata": {},
   "outputs": [],
   "source": [
    "class Bernoulli(int):\n",
    "    def __new__(cls, p=0.51):\n",
    "        return super().__new__(cls)\n",
    "\n",
    "    def __init__(self, p=0.51):\n",
    "        self = np.random.uniform() < p"
   ]
  },
  {
   "cell_type": "code",
   "execution_count": 27,
   "id": "f3a1916e-cec4-452a-997a-656e19048407",
   "metadata": {},
   "outputs": [
    {
     "data": {
      "text/plain": [
       "[0, 0, 0, 0, 0, 0, 0, 0, 0, 0, 0]"
      ]
     },
     "execution_count": 27,
     "metadata": {},
     "output_type": "execute_result"
    }
   ],
   "source": [
    "[Bernoulli(p) for p in np.linspace(0, 1, num=11)]"
   ]
  },
  {
   "cell_type": "markdown",
   "id": "1dc21ca1-fde1-48b3-9af6-2b5e8824483d",
   "metadata": {},
   "source": [
    "You see, such a definition always gives `0`. This is because\n",
    "- `__new__` initializes the instance to `0`\n",
    "- Since Python integers are immutable, once initialized to `0` in `__new__`, `__init__` couldn't further modify it any more"
   ]
  },
  {
   "cell_type": "code",
   "execution_count": null,
   "id": "cd5baca1-c795-4363-bcc7-72369d9db562",
   "metadata": {},
   "outputs": [],
   "source": []
  }
 ],
 "metadata": {
  "kernelspec": {
   "display_name": "Python 3 (ipykernel)",
   "language": "python",
   "name": "python3"
  },
  "language_info": {
   "codemirror_mode": {
    "name": "ipython",
    "version": 3
   },
   "file_extension": ".py",
   "mimetype": "text/x-python",
   "name": "python",
   "nbconvert_exporter": "python",
   "pygments_lexer": "ipython3",
   "version": "3.10.0"
  }
 },
 "nbformat": 4,
 "nbformat_minor": 5
}
